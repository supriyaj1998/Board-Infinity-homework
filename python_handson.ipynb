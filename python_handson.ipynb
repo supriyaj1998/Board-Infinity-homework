{
  "nbformat": 4,
  "nbformat_minor": 0,
  "metadata": {
    "colab": {
      "name": "python_handson.ipynb",
      "provenance": [],
      "collapsed_sections": [],
      "include_colab_link": true
    },
    "kernelspec": {
      "name": "python3",
      "display_name": "Python 3"
    },
    "accelerator": "GPU"
  },
  "cells": [
    {
      "cell_type": "markdown",
      "metadata": {
        "id": "view-in-github",
        "colab_type": "text"
      },
      "source": [
        "<a href=\"https://colab.research.google.com/github/supriyaj1998/Board-Infinity-homework/blob/master/python_handson.ipynb\" target=\"_parent\"><img src=\"https://colab.research.google.com/assets/colab-badge.svg\" alt=\"Open In Colab\"/></a>"
      ]
    },
    {
      "cell_type": "code",
      "metadata": {
        "id": "mS4U9VgDm83a",
        "colab_type": "code",
        "colab": {}
      },
      "source": [
        "# write a python program which accepts the radius of a circle from the user and compute the area\n"
      ],
      "execution_count": 0,
      "outputs": []
    },
    {
      "cell_type": "code",
      "metadata": {
        "id": "Urev9KO4nfDS",
        "colab_type": "code",
        "outputId": "c8c22c84-a1df-4233-89e0-87d7b1f0237c",
        "colab": {
          "base_uri": "https://localhost:8080/",
          "height": 51
        }
      },
      "source": [
        "radius=int(input(\"enter radius of a circle please : \"))\n",
        "pi=3.14\n",
        "area=pi*radius*radius\n",
        "print(\"area of circle is=\",area)"
      ],
      "execution_count": 0,
      "outputs": [
        {
          "output_type": "stream",
          "text": [
            "enter radius of a circle please : 2\n",
            "area of circle is= 12.56\n"
          ],
          "name": "stdout"
        }
      ]
    },
    {
      "cell_type": "code",
      "metadata": {
        "id": "eNvoAVL2nhE1",
        "colab_type": "code",
        "colab": {}
      },
      "source": [
        "# write a python program which accepts the users first and last name and print this in reverse order with a space between them"
      ],
      "execution_count": 0,
      "outputs": []
    },
    {
      "cell_type": "code",
      "metadata": {
        "id": "lV86ep_Rozfc",
        "colab_type": "code",
        "outputId": "1ff02175-0520-407b-e557-d5ec6a59f319",
        "colab": {
          "base_uri": "https://localhost:8080/",
          "height": 67
        }
      },
      "source": [
        "first_name=input(\"enter your first name please: \")\n",
        "last_name=input(\"enter your last name please: \")\n",
        "full_name=first_name+\"  \"+last_name\n",
        "print(\"your full name in reverse order is : \",full_name[::-1])"
      ],
      "execution_count": 2,
      "outputs": [
        {
          "output_type": "stream",
          "text": [
            "enter your first name please: Supriya\n",
            "enter your last name please: Jadhav\n",
            "your full name in reverse order is :  vahdaJ  ayirpuS\n"
          ],
          "name": "stdout"
        }
      ]
    },
    {
      "cell_type": "code",
      "metadata": {
        "id": "Aov78ULWo0Vt",
        "colab_type": "code",
        "colab": {}
      },
      "source": [
        "#write a python program which check if number is divisible by 3 or not\n"
      ],
      "execution_count": 0,
      "outputs": []
    },
    {
      "cell_type": "code",
      "metadata": {
        "id": "e2Z4BcfVp65J",
        "colab_type": "code",
        "outputId": "123e1edb-b3b6-457f-afcb-474bae28726f",
        "colab": {
          "base_uri": "https://localhost:8080/",
          "height": 51
        }
      },
      "source": [
        "number=int(input(\"enter a number please:\"))\n",
        "if number%3==0:\n",
        "  print(\"number is divisible by 3\")\n",
        "else:\n",
        "  print(\"number is not divisible by 3\")"
      ],
      "execution_count": 0,
      "outputs": [
        {
          "output_type": "stream",
          "text": [
            "enter a number please:5\n",
            "number is not divisible by 3\n"
          ],
          "name": "stdout"
        }
      ]
    },
    {
      "cell_type": "code",
      "metadata": {
        "id": "vtkagn7nqIQM",
        "colab_type": "code",
        "colab": {}
      },
      "source": [
        "#write a program to implement 5 function of all math module"
      ],
      "execution_count": 0,
      "outputs": []
    },
    {
      "cell_type": "code",
      "metadata": {
        "id": "U9PgdHf-qjLL",
        "colab_type": "code",
        "outputId": "62e6e717-b52c-40af-c7bc-5c90c11f4547",
        "colab": {
          "base_uri": "https://localhost:8080/",
          "height": 34
        }
      },
      "source": [
        "import math as m\n",
        "print(m.tan(20))"
      ],
      "execution_count": 0,
      "outputs": [
        {
          "output_type": "stream",
          "text": [
            "2.237160944224742\n"
          ],
          "name": "stdout"
        }
      ]
    },
    {
      "cell_type": "code",
      "metadata": {
        "id": "v0ON3Yooq7MB",
        "colab_type": "code",
        "outputId": "215a17cd-9c9a-4f20-caaa-2f0739da35e2",
        "colab": {
          "base_uri": "https://localhost:8080/",
          "height": 34
        }
      },
      "source": [
        "print(m.pow(3,2))"
      ],
      "execution_count": 0,
      "outputs": [
        {
          "output_type": "stream",
          "text": [
            "9.0\n"
          ],
          "name": "stdout"
        }
      ]
    },
    {
      "cell_type": "code",
      "metadata": {
        "id": "5RLfMO62raOv",
        "colab_type": "code",
        "outputId": "6a9b0309-49a4-44b3-a854-5e60aed377d1",
        "colab": {
          "base_uri": "https://localhost:8080/",
          "height": 34
        }
      },
      "source": [
        "print(m.factorial(4)\t)"
      ],
      "execution_count": 0,
      "outputs": [
        {
          "output_type": "stream",
          "text": [
            "24\n"
          ],
          "name": "stdout"
        }
      ]
    },
    {
      "cell_type": "code",
      "metadata": {
        "id": "31LLag05rozf",
        "colab_type": "code",
        "outputId": "7421afea-92fd-47bb-b72e-677ab2f46458",
        "colab": {
          "base_uri": "https://localhost:8080/",
          "height": 34
        }
      },
      "source": [
        "print(m.log10(45))"
      ],
      "execution_count": 0,
      "outputs": [
        {
          "output_type": "stream",
          "text": [
            "1.6532125137753437\n"
          ],
          "name": "stdout"
        }
      ]
    },
    {
      "cell_type": "code",
      "metadata": {
        "id": "vIPvnqaXr15c",
        "colab_type": "code",
        "outputId": "2749c9e9-f6fe-4804-c7c6-7582e2e8fe1c",
        "colab": {
          "base_uri": "https://localhost:8080/",
          "height": 34
        }
      },
      "source": [
        "print(m.gamma(6))"
      ],
      "execution_count": 0,
      "outputs": [
        {
          "output_type": "stream",
          "text": [
            "120.0\n"
          ],
          "name": "stdout"
        }
      ]
    },
    {
      "cell_type": "code",
      "metadata": {
        "id": "fVCD5PzxsF6S",
        "colab_type": "code",
        "colab": {}
      },
      "source": [
        "#wap to so sum of square"
      ],
      "execution_count": 0,
      "outputs": []
    },
    {
      "cell_type": "code",
      "metadata": {
        "id": "QmLK7Jffss-U",
        "colab_type": "code",
        "outputId": "48b8c97c-0c35-4721-9191-ec858ae3c5d0",
        "colab": {
          "base_uri": "https://localhost:8080/",
          "height": 119
        }
      },
      "source": [
        "sum=0\n",
        "for i in range(0,6):\n",
        "  sum=sum + i**2\n",
        "  print(sum)\n"
      ],
      "execution_count": 0,
      "outputs": [
        {
          "output_type": "stream",
          "text": [
            "0\n",
            "1\n",
            "5\n",
            "14\n",
            "30\n",
            "55\n"
          ],
          "name": "stdout"
        }
      ]
    },
    {
      "cell_type": "code",
      "metadata": {
        "id": "RVS9X6zvtN61",
        "colab_type": "code",
        "colab": {}
      },
      "source": [
        "# write void function that reverse a 4 digit number and calculate the sum of squares of first 2 digit number and last 2 digit number (hint-if 1233 is passed as an argument then function should be calculate 12**2+33**2)"
      ],
      "execution_count": 0,
      "outputs": []
    },
    {
      "cell_type": "code",
      "metadata": {
        "id": "_duZTiCjvQ79",
        "colab_type": "code",
        "outputId": "5a614b34-4476-4cfa-d8f1-572294ee0347",
        "colab": {
          "base_uri": "https://localhost:8080/",
          "height": 85
        }
      },
      "source": [
        "def cal(abcd):\n",
        "  print(int(str(abcd)[::-1]))\n",
        "  last2digit=(int(str(abcd)[::-1]))%100\n",
        "  first2digit=(int(str(abcd)[::-1]))//100\n",
        "  print(first2digit**2+last2digit**2)\n",
        "\n",
        "cal(1234)\n"
      ],
      "execution_count": 0,
      "outputs": [
        {
          "output_type": "stream",
          "text": [
            "4321\n",
            "43\n",
            "21\n",
            "2290\n"
          ],
          "name": "stdout"
        }
      ]
    },
    {
      "cell_type": "code",
      "metadata": {
        "id": "JyouAyNxvSRY",
        "colab_type": "code",
        "colab": {}
      },
      "source": [
        "#write a function that takes one argument and report if the argument is prime or not wap that invoke the function"
      ],
      "execution_count": 0,
      "outputs": []
    },
    {
      "cell_type": "code",
      "metadata": {
        "id": "bsgfofhY2Y6j",
        "colab_type": "code",
        "outputId": "80a14fd0-ffc3-4f44-fed6-973494b3f25a",
        "colab": {
          "base_uri": "https://localhost:8080/",
          "height": 34
        }
      },
      "source": [
        "def test_prime(n):\n",
        "  if (n==1):\n",
        "    return not \"prime\"\n",
        "  elif(n==2): \n",
        "    return \"prime\"\n",
        "  else:\n",
        "    if (n%2==0):\n",
        "      return \"not prime\"\n",
        "  return \"prime\"\n",
        "test_prime(9)"
      ],
      "execution_count": 0,
      "outputs": [
        {
          "output_type": "execute_result",
          "data": {
            "text/plain": [
              "'prime'"
            ]
          },
          "metadata": {
            "tags": []
          },
          "execution_count": 43
        }
      ]
    },
    {
      "cell_type": "code",
      "metadata": {
        "id": "JWrE8eQovu9L",
        "colab_type": "code",
        "colab": {}
      },
      "source": [
        "# wap that takes the charcter and return TRUE if it is a vowel FALSE otherwise"
      ],
      "execution_count": 0,
      "outputs": []
    },
    {
      "cell_type": "code",
      "metadata": {
        "id": "M3jGWhJTwEEy",
        "colab_type": "code",
        "outputId": "9735c4ce-ece0-43d5-8be0-988abf723703",
        "colab": {
          "base_uri": "https://localhost:8080/",
          "height": 51
        }
      },
      "source": [
        "ch=input(\"enter a charcater:\")\n",
        "if(ch=='a'or ch=='e'or ch=='i'or ch=='o'or ch=='u'or ch=='A'or ch=='E'or ch=='I'or ch=='O'or ch=='U'):\n",
        "    print(\"TRUE\")\n",
        "else:\n",
        "   print(\"FALSE\")\n"
      ],
      "execution_count": 0,
      "outputs": [
        {
          "output_type": "stream",
          "text": [
            "enter a charcater:i\n",
            "TRUE\n"
          ],
          "name": "stdout"
        }
      ]
    },
    {
      "cell_type": "code",
      "metadata": {
        "id": "AZvOmH8nwE97",
        "colab_type": "code",
        "colab": {}
      },
      "source": [
        "|#wap to get last digit of cube"
      ],
      "execution_count": 0,
      "outputs": []
    },
    {
      "cell_type": "code",
      "metadata": {
        "id": "P4jAvEiVwKSo",
        "colab_type": "code",
        "outputId": "d0e954e0-6ecc-4480-8c52-6e0a85cd2804",
        "colab": {
          "base_uri": "https://localhost:8080/",
          "height": 68
        }
      },
      "source": [
        "number=int(input(\"enter a number : \"))\n",
        "cube=number**3\n",
        "last_digit=cube%10\n",
        "print(cube)\n",
        "print(last_digit)"
      ],
      "execution_count": 0,
      "outputs": [
        {
          "output_type": "stream",
          "text": [
            "enter a number : 5\n",
            "125\n",
            "5\n"
          ],
          "name": "stdout"
        }
      ]
    },
    {
      "cell_type": "code",
      "metadata": {
        "id": "T2iFpl6rwLxB",
        "colab_type": "code",
        "colab": {}
      },
      "source": [
        "# write a python program that takes a list and return a new list with unique element of theb first list"
      ],
      "execution_count": 0,
      "outputs": []
    },
    {
      "cell_type": "code",
      "metadata": {
        "id": "BU0HPriPwiy-",
        "colab_type": "code",
        "outputId": "a8a469af-b1e3-45a9-ba50-25ecffdfdd71",
        "colab": {
          "base_uri": "https://localhost:8080/",
          "height": 34
        }
      },
      "source": [
        "def unique_list(l):\n",
        "  x=[]\n",
        "  for a in l:\n",
        "    if a not in x:\n",
        "      x.append(a)\n",
        "  return x\n",
        "print(unique_list([1,3,6,8,9,3]))"
      ],
      "execution_count": 0,
      "outputs": [
        {
          "output_type": "stream",
          "text": [
            "[1, 3, 6, 8, 9]\n"
          ],
          "name": "stdout"
        }
      ]
    },
    {
      "cell_type": "code",
      "metadata": {
        "id": "Ie013q8Tx-3Q",
        "colab_type": "code",
        "colab": {}
      },
      "source": [
        ""
      ],
      "execution_count": 0,
      "outputs": []
    }
  ]
}