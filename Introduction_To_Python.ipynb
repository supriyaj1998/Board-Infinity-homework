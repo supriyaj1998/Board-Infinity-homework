{
  "nbformat": 4,
  "nbformat_minor": 0,
  "metadata": {
    "colab": {
      "name": "Introduction To Python.ipynb",
      "provenance": [],
      "authorship_tag": "ABX9TyNCtdsTEmU9ES4+TgdNJDI1",
      "include_colab_link": true
    },
    "kernelspec": {
      "name": "python3",
      "display_name": "Python 3"
    },
    "accelerator": "GPU"
  },
  "cells": [
    {
      "cell_type": "markdown",
      "metadata": {
        "id": "view-in-github",
        "colab_type": "text"
      },
      "source": [
        "<a href=\"https://colab.research.google.com/github/supriyaj1998/python-for-data-science/blob/master/Introduction_To_Python.ipynb\" target=\"_parent\"><img src=\"https://colab.research.google.com/assets/colab-badge.svg\" alt=\"Open In Colab\"/></a>"
      ]
    },
    {
      "cell_type": "code",
      "metadata": {
        "id": "hVrjxOOrz-9a",
        "colab_type": "code",
        "colab": {}
      },
      "source": [
        ""
      ],
      "execution_count": 0,
      "outputs": []
    },
    {
      "cell_type": "markdown",
      "metadata": {
        "id": "nkAkk_f3LvHB",
        "colab_type": "text"
      },
      "source": [
        "This is my first Jupyter notebook\n",
        "\n",
        "\n"
      ]
    },
    {
      "cell_type": "code",
      "metadata": {
        "id": "bgok8FpfL5Ly",
        "colab_type": "code",
        "colab": {}
      },
      "source": [
        ""
      ],
      "execution_count": 0,
      "outputs": []
    },
    {
      "cell_type": "code",
      "metadata": {
        "id": "PP5aVnEuNY7C",
        "colab_type": "code",
        "colab": {}
      },
      "source": [
        "name=\"supriya\""
      ],
      "execution_count": 0,
      "outputs": []
    },
    {
      "cell_type": "code",
      "metadata": {
        "id": "IRDLeTqCNcoi",
        "colab_type": "code",
        "colab": {
          "base_uri": "https://localhost:8080/",
          "height": 34
        },
        "outputId": "285893ff-f0ec-4695-8f5c-396eb7dfae17"
      },
      "source": [
        "name"
      ],
      "execution_count": 2,
      "outputs": [
        {
          "output_type": "execute_result",
          "data": {
            "text/plain": [
              "'supriya'"
            ]
          },
          "metadata": {
            "tags": []
          },
          "execution_count": 2
        }
      ]
    },
    {
      "cell_type": "code",
      "metadata": {
        "id": "TEoJXRv_PD3u",
        "colab_type": "code",
        "colab": {}
      },
      "source": [
        "#form of string"
      ],
      "execution_count": 0,
      "outputs": []
    },
    {
      "cell_type": "code",
      "metadata": {
        "id": "_CZcmP7hQjYZ",
        "colab_type": "code",
        "colab": {}
      },
      "source": [
        "#form of number"
      ],
      "execution_count": 0,
      "outputs": []
    },
    {
      "cell_type": "code",
      "metadata": {
        "id": "Dmis1f8WRPgd",
        "colab_type": "code",
        "colab": {}
      },
      "source": [
        "age = 21"
      ],
      "execution_count": 0,
      "outputs": []
    },
    {
      "cell_type": "code",
      "metadata": {
        "id": "UMAjZbZnRT8Z",
        "colab_type": "code",
        "colab": {
          "base_uri": "https://localhost:8080/",
          "height": 34
        },
        "outputId": "9f65f792-1aae-463a-c13c-570c7b7d7d68"
      },
      "source": [
        "age"
      ],
      "execution_count": 7,
      "outputs": [
        {
          "output_type": "execute_result",
          "data": {
            "text/plain": [
              "21"
            ]
          },
          "metadata": {
            "tags": []
          },
          "execution_count": 7
        }
      ]
    },
    {
      "cell_type": "code",
      "metadata": {
        "id": "DnEErQg0Rfvv",
        "colab_type": "code",
        "colab": {}
      },
      "source": [
        "#print multiple variables"
      ],
      "execution_count": 0,
      "outputs": []
    },
    {
      "cell_type": "code",
      "metadata": {
        "id": "iZzrfPyeSM9w",
        "colab_type": "code",
        "colab": {
          "base_uri": "https://localhost:8080/",
          "height": 50
        },
        "outputId": "19b4778a-15d8-41a0-ce9e-2593f182deec"
      },
      "source": [
        "print(name)\n",
        "print(age)"
      ],
      "execution_count": 9,
      "outputs": [
        {
          "output_type": "stream",
          "text": [
            "supriya\n",
            "21\n"
          ],
          "name": "stdout"
        }
      ]
    },
    {
      "cell_type": "code",
      "metadata": {
        "id": "xt76I6PMSViS",
        "colab_type": "code",
        "colab": {}
      },
      "source": [
        "#Boolean values"
      ],
      "execution_count": 0,
      "outputs": []
    },
    {
      "cell_type": "code",
      "metadata": {
        "id": "3TMMMN_OTbN8",
        "colab_type": "code",
        "colab": {}
      },
      "source": [
        "male= False"
      ],
      "execution_count": 0,
      "outputs": []
    },
    {
      "cell_type": "code",
      "metadata": {
        "id": "17owEHdOTfJI",
        "colab_type": "code",
        "colab": {
          "base_uri": "https://localhost:8080/",
          "height": 34
        },
        "outputId": "450776b1-a714-4ac5-abd9-e432a73c8ecb"
      },
      "source": [
        "male"
      ],
      "execution_count": 13,
      "outputs": [
        {
          "output_type": "execute_result",
          "data": {
            "text/plain": [
              "False"
            ]
          },
          "metadata": {
            "tags": []
          },
          "execution_count": 13
        }
      ]
    },
    {
      "cell_type": "code",
      "metadata": {
        "id": "P7sqVn1STn8z",
        "colab_type": "code",
        "colab": {}
      },
      "source": [
        "#floating numbers"
      ],
      "execution_count": 0,
      "outputs": []
    },
    {
      "cell_type": "code",
      "metadata": {
        "id": "Jrvpmrs7UFHv",
        "colab_type": "code",
        "colab": {}
      },
      "source": [
        "percentage = 76\n"
      ],
      "execution_count": 0,
      "outputs": []
    },
    {
      "cell_type": "code",
      "metadata": {
        "id": "DLyZ2mz0UMG_",
        "colab_type": "code",
        "colab": {
          "base_uri": "https://localhost:8080/",
          "height": 34
        },
        "outputId": "16b8f9d7-35bb-4470-9f1e-bd7770ffc1d3"
      },
      "source": [
        "percentage"
      ],
      "execution_count": 16,
      "outputs": [
        {
          "output_type": "execute_result",
          "data": {
            "text/plain": [
              "76"
            ]
          },
          "metadata": {
            "tags": []
          },
          "execution_count": 16
        }
      ]
    },
    {
      "cell_type": "code",
      "metadata": {
        "id": "U_TDHq0WUOkO",
        "colab_type": "code",
        "colab": {}
      },
      "source": [
        "#list stores a group of values\n"
      ],
      "execution_count": 0,
      "outputs": []
    },
    {
      "cell_type": "code",
      "metadata": {
        "id": "jFX398rPVX8-",
        "colab_type": "code",
        "colab": {}
      },
      "source": [
        "marks = [76,73,7.42 ,'supriya jadhav',True]"
      ],
      "execution_count": 0,
      "outputs": []
    },
    {
      "cell_type": "code",
      "metadata": {
        "id": "EAuiudtWeteC",
        "colab_type": "code",
        "colab": {
          "base_uri": "https://localhost:8080/",
          "height": 34
        },
        "outputId": "91a33fe3-f5dd-4a7d-9f54-343e30b6aa12"
      },
      "source": [
        "len(marks)"
      ],
      "execution_count": 40,
      "outputs": [
        {
          "output_type": "execute_result",
          "data": {
            "text/plain": [
              "5"
            ]
          },
          "metadata": {
            "tags": []
          },
          "execution_count": 40
        }
      ]
    },
    {
      "cell_type": "code",
      "metadata": {
        "id": "3Q1Ko8-LVbGd",
        "colab_type": "code",
        "colab": {
          "base_uri": "https://localhost:8080/",
          "height": 34
        },
        "outputId": "5bf589ab-f7f1-4ac4-9fa9-94782df2b139"
      },
      "source": [
        "marks"
      ],
      "execution_count": 23,
      "outputs": [
        {
          "output_type": "execute_result",
          "data": {
            "text/plain": [
              "[76, 73, 7.42, 'supriya jadhav', True]"
            ]
          },
          "metadata": {
            "tags": []
          },
          "execution_count": 23
        }
      ]
    },
    {
      "cell_type": "code",
      "metadata": {
        "id": "VBuMQr0sVr19",
        "colab_type": "code",
        "colab": {
          "base_uri": "https://localhost:8080/",
          "height": 34
        },
        "outputId": "bd42f677-8617-41d6-b042-adf4477193cf"
      },
      "source": [
        "marks[3]"
      ],
      "execution_count": 24,
      "outputs": [
        {
          "output_type": "execute_result",
          "data": {
            "text/plain": [
              "'supriya jadhav'"
            ]
          },
          "metadata": {
            "tags": []
          },
          "execution_count": 24
        }
      ]
    },
    {
      "cell_type": "code",
      "metadata": {
        "id": "60tZhHmWWIdR",
        "colab_type": "code",
        "colab": {}
      },
      "source": [
        "education ={'tenth': 76, 'diploma': 73, 'graduation':7.42, 'name':\"supriya jadhav\", 'female':'True'}"
      ],
      "execution_count": 0,
      "outputs": []
    },
    {
      "cell_type": "code",
      "metadata": {
        "id": "5fp8JEPaYFHp",
        "colab_type": "code",
        "colab": {
          "base_uri": "https://localhost:8080/",
          "height": 101
        },
        "outputId": "c58f3fc8-4d18-4bcb-fc60-14d503e1e7cd"
      },
      "source": [
        "education"
      ],
      "execution_count": 26,
      "outputs": [
        {
          "output_type": "execute_result",
          "data": {
            "text/plain": [
              "{'diploma': 73,\n",
              " 'female': 'True',\n",
              " 'graduation': 7.42,\n",
              " 'name': 'supriya jadhav',\n",
              " 'tenth': 76}"
            ]
          },
          "metadata": {
            "tags": []
          },
          "execution_count": 26
        }
      ]
    },
    {
      "cell_type": "code",
      "metadata": {
        "id": "VG3aRigtYHpG",
        "colab_type": "code",
        "colab": {}
      },
      "source": [
        "#selecting the list from the dictionary"
      ],
      "execution_count": 0,
      "outputs": []
    },
    {
      "cell_type": "code",
      "metadata": {
        "id": "XbmfYDfnZUZB",
        "colab_type": "code",
        "colab": {
          "base_uri": "https://localhost:8080/",
          "height": 34
        },
        "outputId": "450919f8-4ce9-46e8-d09c-09ef7e8b167a"
      },
      "source": [
        "education['tenth']"
      ],
      "execution_count": 29,
      "outputs": [
        {
          "output_type": "execute_result",
          "data": {
            "text/plain": [
              "76"
            ]
          },
          "metadata": {
            "tags": []
          },
          "execution_count": 29
        }
      ]
    },
    {
      "cell_type": "code",
      "metadata": {
        "id": "2UEQC56CZfsG",
        "colab_type": "code",
        "colab": {
          "base_uri": "https://localhost:8080/",
          "height": 34
        },
        "outputId": "680f4fb5-feca-4d1e-cad9-1509bc3fb300"
      },
      "source": [
        "education.keys()"
      ],
      "execution_count": 30,
      "outputs": [
        {
          "output_type": "execute_result",
          "data": {
            "text/plain": [
              "dict_keys(['tenth', 'diploma', 'graduation', 'name', 'female'])"
            ]
          },
          "metadata": {
            "tags": []
          },
          "execution_count": 30
        }
      ]
    },
    {
      "cell_type": "code",
      "metadata": {
        "id": "V6ws4QKvZ3w0",
        "colab_type": "code",
        "colab": {
          "base_uri": "https://localhost:8080/",
          "height": 34
        },
        "outputId": "cbf10e8d-d6b6-4c20-8118-d703878d8293"
      },
      "source": [
        "education.values()"
      ],
      "execution_count": 31,
      "outputs": [
        {
          "output_type": "execute_result",
          "data": {
            "text/plain": [
              "dict_values([76, 73, 7.42, 'supriya jadhav', 'True'])"
            ]
          },
          "metadata": {
            "tags": []
          },
          "execution_count": 31
        }
      ]
    },
    {
      "cell_type": "code",
      "metadata": {
        "id": "BP2RM62BaPDG",
        "colab_type": "code",
        "colab": {}
      },
      "source": [
        "#make a dictionary with containing a list of marks"
      ],
      "execution_count": 0,
      "outputs": []
    },
    {
      "cell_type": "code",
      "metadata": {
        "id": "58hmbOO4a6Z_",
        "colab_type": "code",
        "colab": {}
      },
      "source": [
        "students={'st1':[88,78,89],\n",
        "          'st2' :[68,77,90],\n",
        "          'st3':[65,76,96]}"
      ],
      "execution_count": 0,
      "outputs": []
    },
    {
      "cell_type": "code",
      "metadata": {
        "id": "_z_L3z-tcvLK",
        "colab_type": "code",
        "colab": {}
      },
      "source": [
        "#print the graduation score of 2nd student"
      ],
      "execution_count": 0,
      "outputs": []
    },
    {
      "cell_type": "code",
      "metadata": {
        "id": "KB6nqjWEbbfa",
        "colab_type": "code",
        "colab": {}
      },
      "source": [
        "#make a list containing a dictonary "
      ],
      "execution_count": 0,
      "outputs": []
    },
    {
      "cell_type": "code",
      "metadata": {
        "id": "jna8ftJRbhor",
        "colab_type": "code",
        "colab": {}
      },
      "source": [
        "friends=[{'name':\"supriya\",'age':'21'},{'name':\"swapnali\",'age':'24'}]"
      ],
      "execution_count": 0,
      "outputs": []
    },
    {
      "cell_type": "code",
      "metadata": {
        "id": "rEoWIcHOcA38",
        "colab_type": "code",
        "colab": {
          "base_uri": "https://localhost:8080/",
          "height": 34
        },
        "outputId": "e156f822-f1af-48fe-d4b2-cfcbaf8c67fd"
      },
      "source": [
        "students['st2'][-1]"
      ],
      "execution_count": 39,
      "outputs": [
        {
          "output_type": "execute_result",
          "data": {
            "text/plain": [
              "90"
            ]
          },
          "metadata": {
            "tags": []
          },
          "execution_count": 39
        }
      ]
    },
    {
      "cell_type": "code",
      "metadata": {
        "id": "ktxJjoVJeU85",
        "colab_type": "code",
        "colab": {
          "base_uri": "https://localhost:8080/",
          "height": 34
        },
        "outputId": "1e9b7114-af44-4593-945a-88084d88879d"
      },
      "source": [
        "type(marks)"
      ],
      "execution_count": 41,
      "outputs": [
        {
          "output_type": "execute_result",
          "data": {
            "text/plain": [
              "list"
            ]
          },
          "metadata": {
            "tags": []
          },
          "execution_count": 41
        }
      ]
    },
    {
      "cell_type": "code",
      "metadata": {
        "id": "g27YsG0If35x",
        "colab_type": "code",
        "colab": {}
      },
      "source": [
        "friendship=['swapnali','neha','vaibhav']"
      ],
      "execution_count": 0,
      "outputs": []
    },
    {
      "cell_type": "code",
      "metadata": {
        "id": "At8SwzMJix4f",
        "colab_type": "code",
        "colab": {
          "base_uri": "https://localhost:8080/",
          "height": 34
        },
        "outputId": "2cd1a9f2-5a06-4c15-e2ba-12445d7b8a11"
      },
      "source": [
        "friendship"
      ],
      "execution_count": 43,
      "outputs": [
        {
          "output_type": "execute_result",
          "data": {
            "text/plain": [
              "['swapnali', 'neha', 'vaibhav']"
            ]
          },
          "metadata": {
            "tags": []
          },
          "execution_count": 43
        }
      ]
    },
    {
      "cell_type": "code",
      "metadata": {
        "id": "C0wKX9uYi0JU",
        "colab_type": "code",
        "colab": {}
      },
      "source": [
        "friendship.append('viraj')"
      ],
      "execution_count": 0,
      "outputs": []
    },
    {
      "cell_type": "code",
      "metadata": {
        "id": "2y4E7sSRjJZP",
        "colab_type": "code",
        "colab": {
          "base_uri": "https://localhost:8080/",
          "height": 34
        },
        "outputId": "db5e90fd-9252-4eca-c45b-31660cf40c2a"
      },
      "source": [
        "friendship"
      ],
      "execution_count": 49,
      "outputs": [
        {
          "output_type": "execute_result",
          "data": {
            "text/plain": [
              "['swapnali', 'neha', 'vaibhav', 'viraj', 'viraj']"
            ]
          },
          "metadata": {
            "tags": []
          },
          "execution_count": 49
        }
      ]
    },
    {
      "cell_type": "code",
      "metadata": {
        "id": "3SRp9wijjMGZ",
        "colab_type": "code",
        "colab": {}
      },
      "source": [
        "friendship[2]='vaibhav'"
      ],
      "execution_count": 0,
      "outputs": []
    },
    {
      "cell_type": "code",
      "metadata": {
        "id": "7EBRQQWXk5Fr",
        "colab_type": "code",
        "colab": {
          "base_uri": "https://localhost:8080/",
          "height": 34
        },
        "outputId": "a6a9d347-167a-41d7-81c0-925cf04f1e78"
      },
      "source": [
        "friendship"
      ],
      "execution_count": 51,
      "outputs": [
        {
          "output_type": "execute_result",
          "data": {
            "text/plain": [
              "['swapnali', 'neha', 'vaibhav', 'viraj', 'viraj']"
            ]
          },
          "metadata": {
            "tags": []
          },
          "execution_count": 51
        }
      ]
    },
    {
      "cell_type": "code",
      "metadata": {
        "id": "Xv7eVT-Sk7pq",
        "colab_type": "code",
        "colab": {}
      },
      "source": [
        "friendship[0]='akash'"
      ],
      "execution_count": 0,
      "outputs": []
    },
    {
      "cell_type": "code",
      "metadata": {
        "id": "kZId_BbolJpR",
        "colab_type": "code",
        "colab": {
          "base_uri": "https://localhost:8080/",
          "height": 34
        },
        "outputId": "061445eb-e592-4e6a-ba02-53589e75b2a4"
      },
      "source": [
        "friendship"
      ],
      "execution_count": 55,
      "outputs": [
        {
          "output_type": "execute_result",
          "data": {
            "text/plain": [
              "['akash', 'neha', 'vaibhav', 'viraj', 'viraj']"
            ]
          },
          "metadata": {
            "tags": []
          },
          "execution_count": 55
        }
      ]
    },
    {
      "cell_type": "code",
      "metadata": {
        "id": "hXjoJReFlZA1",
        "colab_type": "code",
        "colab": {}
      },
      "source": [
        ""
      ],
      "execution_count": 0,
      "outputs": []
    }
  ]
}