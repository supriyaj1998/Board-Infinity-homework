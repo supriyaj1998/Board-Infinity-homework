{
  "nbformat": 4,
  "nbformat_minor": 0,
  "metadata": {
    "colab": {
      "name": "my second notebook.ipynb",
      "provenance": [],
      "collapsed_sections": [],
      "authorship_tag": "ABX9TyOm64ihvLYjnrTsOqErDIaS",
      "include_colab_link": true
    },
    "kernelspec": {
      "name": "python3",
      "display_name": "Python 3"
    }
  },
  "cells": [
    {
      "cell_type": "markdown",
      "metadata": {
        "id": "view-in-github",
        "colab_type": "text"
      },
      "source": [
        "<a href=\"https://colab.research.google.com/github/supriyaj1998/python-for-data-science/blob/master/my_second_notebook.ipynb\" target=\"_parent\"><img src=\"https://colab.research.google.com/assets/colab-badge.svg\" alt=\"Open In Colab\"/></a>"
      ]
    },
    {
      "cell_type": "code",
      "metadata": {
        "id": "DinGqo2zPsoY",
        "colab_type": "code",
        "colab": {}
      },
      "source": [
        ""
      ],
      "execution_count": 0,
      "outputs": []
    },
    {
      "cell_type": "markdown",
      "metadata": {
        "id": "b7W34xQfRe_3",
        "colab_type": "text"
      },
      "source": [
        "#My name is supriya Jadhav.I live in panvel, my hometown is Roha dist raigad.\n",
        "#I am 21 years old.My father is government officer and my mother is houseworker.\n",
        "#I have a younger brother .There are 4 members in my family including me.\n",
        "#I am persuing a degree in computer engineering from pillai college of engineering and technology.\n",
        "#My hobbies are singing , dancing ,working on different technogies and applications and backends.\n",
        "#My likes are composing poems and songs. "
      ]
    },
    {
      "cell_type": "markdown",
      "metadata": {
        "id": "lVSh8rjTRdwE",
        "colab_type": "text"
      },
      "source": [
        "#The reason I wanted to be a data sceintist is:\n",
        "# Industries are becoming data-driven and new innovations are being made every day. Industries require data-scientists to assist them in making smarter decisions and creating better products.With the advent of high-performance computing platforms and data analysis.\n",
        "# Data Scientist makes 163% more than the national average salary. This makes Data Science a highly lucrative career choice."
      ]
    },
    {
      "cell_type": "code",
      "metadata": {
        "id": "bqy164kyVnYT",
        "colab_type": "code",
        "colab": {}
      },
      "source": [
        "#three strings variable for name:"
      ],
      "execution_count": 0,
      "outputs": []
    },
    {
      "cell_type": "code",
      "metadata": {
        "id": "NgPX7WsPOZp3",
        "colab_type": "code",
        "colab": {
          "base_uri": "https://localhost:8080/",
          "height": 50
        },
        "outputId": "0dc143a1-4ccc-4d9a-db65-6c09d5bb3ba6"
      },
      "source": [
        "firstname = \"supriya\" \n",
        "lastname = \"Jadhav\"\n",
        "city = \"Panvel\"\n",
        "fullname = firstname +\" \"+lastname\n",
        "print(fullname)\n",
        "address = city\n",
        "print(address)"
      ],
      "execution_count": 5,
      "outputs": [
        {
          "output_type": "stream",
          "text": [
            "supriya Jadhav\n",
            "Panvel\n"
          ],
          "name": "stdout"
        }
      ]
    },
    {
      "cell_type": "code",
      "metadata": {
        "id": "RYuOMSBeOpuE",
        "colab_type": "code",
        "colab": {
          "base_uri": "https://localhost:8080/",
          "height": 50
        },
        "outputId": "5965ec05-2571-450c-ce10-adf0f93020aa"
      },
      "source": [
        "age = 21\n",
        "height = \"5.5 cm\"\n",
        "print(age)\n",
        "print(height)"
      ],
      "execution_count": 6,
      "outputs": [
        {
          "output_type": "stream",
          "text": [
            "21\n",
            "5.5 cm\n"
          ],
          "name": "stdout"
        }
      ]
    },
    {
      "cell_type": "code",
      "metadata": {
        "id": "lRlKNqFfQKa0",
        "colab_type": "code",
        "colab": {
          "base_uri": "https://localhost:8080/",
          "height": 50
        },
        "outputId": "4516930d-8900-48f5-ec2e-60625987dbc4"
      },
      "source": [
        "ssc =75.60\n",
        "diploma  =70.00\n",
        "print(ssc )\n",
        "print(diploma )"
      ],
      "execution_count": 8,
      "outputs": [
        {
          "output_type": "stream",
          "text": [
            "75.6\n",
            "70.0\n"
          ],
          "name": "stdout"
        }
      ]
    },
    {
      "cell_type": "code",
      "metadata": {
        "id": "y5PtIYwbQq5b",
        "colab_type": "code",
        "colab": {}
      },
      "source": [
        "# making a list "
      ],
      "execution_count": 0,
      "outputs": []
    },
    {
      "cell_type": "code",
      "metadata": {
        "id": "Mho3lS5NQ7kw",
        "colab_type": "code",
        "colab": {
          "base_uri": "https://localhost:8080/",
          "height": 34
        },
        "outputId": "6c883e96-c67b-4d41-f91a-06ea8ef39e42"
      },
      "source": [
        "favourite_numbers =[7,5,8,4,2,75.60,28.0,'jerry']\n",
        "favourite_numbers"
      ],
      "execution_count": 11,
      "outputs": [
        {
          "output_type": "execute_result",
          "data": {
            "text/plain": [
              "[7, 5, 8, 4, 2, 75.6, 28.0, 'jerry']"
            ]
          },
          "metadata": {
            "tags": []
          },
          "execution_count": 11
        }
      ]
    },
    {
      "cell_type": "code",
      "metadata": {
        "id": "WxDPcoeVRiuT",
        "colab_type": "code",
        "colab": {
          "base_uri": "https://localhost:8080/",
          "height": 34
        },
        "outputId": "b0158236-501f-4c93-dae3-0356321b507a"
      },
      "source": [
        "my_friends=['swapnali','neha','shweta','pooja','amruta']\n",
        "\n",
        "my_friends"
      ],
      "execution_count": 53,
      "outputs": [
        {
          "output_type": "execute_result",
          "data": {
            "text/plain": [
              "['swapnali', 'neha', 'shweta', 'pooja', 'amruta']"
            ]
          },
          "metadata": {
            "tags": []
          },
          "execution_count": 53
        }
      ]
    },
    {
      "cell_type": "code",
      "metadata": {
        "id": "cXMnPMkDSExN",
        "colab_type": "code",
        "colab": {
          "base_uri": "https://localhost:8080/",
          "height": 50
        },
        "outputId": "bea020e2-a6fa-4b69-be12-04d026125097"
      },
      "source": [
        "# making a dictionary :\n",
        "#initilization:\n",
        "myself={'DOB':'18_jan_1998','Favourite color':\"red\"\" \"\"black\"\" \" \"purple\",'Age':21,\"Gender\":'female','Name':\"Supriya Jadhav\",'Favourite Song':\"Senorita\"}\n",
        "print(myself['Name'])\n",
        "print(myself['Gender'])\n",
        "\n",
        "#appending:\n",
        "myself['vegetarian']=[False]\n"
      ],
      "execution_count": 51,
      "outputs": [
        {
          "output_type": "stream",
          "text": [
            "Supriya Jadhav\n",
            "female\n"
          ],
          "name": "stdout"
        }
      ]
    },
    {
      "cell_type": "code",
      "metadata": {
        "id": "rT0x0o47XWDZ",
        "colab_type": "code",
        "colab": {
          "base_uri": "https://localhost:8080/",
          "height": 134
        },
        "outputId": "dcdb7665-d589-4ce4-bb04-985d887bb5f4"
      },
      "source": [
        "myself"
      ],
      "execution_count": 52,
      "outputs": [
        {
          "output_type": "execute_result",
          "data": {
            "text/plain": [
              "{'Age': 21,\n",
              " 'DOB': '18_jan_1998',\n",
              " 'Favourite Song': 'Senorita',\n",
              " 'Favourite color': 'red black purple',\n",
              " 'Gender': 'female',\n",
              " 'Name': 'Supriya Jadhav',\n",
              " 'vegetarian': [False]}"
            ]
          },
          "metadata": {
            "tags": []
          },
          "execution_count": 52
        }
      ]
    },
    {
      "cell_type": "code",
      "metadata": {
        "id": "HDOYSHLtXi-L",
        "colab_type": "code",
        "colab": {}
      },
      "source": [
        "\n"
      ],
      "execution_count": 0,
      "outputs": []
    }
  ]
}