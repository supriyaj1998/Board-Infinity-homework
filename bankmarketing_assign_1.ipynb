{
  "nbformat": 4,
  "nbformat_minor": 0,
  "metadata": {
    "colab": {
      "name": "bankmarketing_assign_1.ipynb",
      "provenance": [],
      "collapsed_sections": []
    },
    "kernelspec": {
      "name": "python3",
      "display_name": "Python 3"
    },
    "language_info": {
      "name": "python"
    }
  },
  "cells": [
    {
      "cell_type": "code",
      "metadata": {
        "id": "vwOHwAoEY5ZD"
      },
      "source": [
        "# importing libraries\n",
        "import numpy as np\n",
        "import pandas as pd\n",
        "import matplotlib.pyplot as plt, seaborn as sns\n",
        "%matplotlib inline"
      ],
      "execution_count": null,
      "outputs": []
    },
    {
      "cell_type": "code",
      "metadata": {
        "colab": {
          "base_uri": "https://localhost:8080/",
          "height": 240
        },
        "id": "qSfg7jr4ZFmE",
        "outputId": "3648b01d-3908-4469-ccae-673390e6702e"
      },
      "source": [
        "#READING CSV FILE:\n",
        "bm0 = pd.read_csv('bank-marketing.csv', encoding='unicode_escape')\n",
        "bm0.head()\n",
        "print(\"Dataset with rows {} and columns {}\".format(bm0.shape[0],bm0.shape[1]))\n",
        "bm0.head()"
      ],
      "execution_count": null,
      "outputs": [
        {
          "output_type": "stream",
          "text": [
            "Dataset with rows 45211 and columns 19\n"
          ],
          "name": "stdout"
        },
        {
          "output_type": "execute_result",
          "data": {
            "text/html": [
              "<div>\n",
              "<style scoped>\n",
              "    .dataframe tbody tr th:only-of-type {\n",
              "        vertical-align: middle;\n",
              "    }\n",
              "\n",
              "    .dataframe tbody tr th {\n",
              "        vertical-align: top;\n",
              "    }\n",
              "\n",
              "    .dataframe thead th {\n",
              "        text-align: right;\n",
              "    }\n",
              "</style>\n",
              "<table border=\"1\" class=\"dataframe\">\n",
              "  <thead>\n",
              "    <tr style=\"text-align: right;\">\n",
              "      <th></th>\n",
              "      <th>age</th>\n",
              "      <th>job</th>\n",
              "      <th>salary</th>\n",
              "      <th>marital</th>\n",
              "      <th>education</th>\n",
              "      <th>targeted</th>\n",
              "      <th>default</th>\n",
              "      <th>balance</th>\n",
              "      <th>housing</th>\n",
              "      <th>loan</th>\n",
              "      <th>contact</th>\n",
              "      <th>day</th>\n",
              "      <th>month</th>\n",
              "      <th>duration</th>\n",
              "      <th>campaign</th>\n",
              "      <th>pdays</th>\n",
              "      <th>previous</th>\n",
              "      <th>poutcome</th>\n",
              "      <th>response</th>\n",
              "    </tr>\n",
              "  </thead>\n",
              "  <tbody>\n",
              "    <tr>\n",
              "      <th>0</th>\n",
              "      <td>58</td>\n",
              "      <td>management</td>\n",
              "      <td>100000</td>\n",
              "      <td>married</td>\n",
              "      <td>tertiary</td>\n",
              "      <td>yes</td>\n",
              "      <td>no</td>\n",
              "      <td>2143</td>\n",
              "      <td>yes</td>\n",
              "      <td>no</td>\n",
              "      <td>unknown</td>\n",
              "      <td>5</td>\n",
              "      <td>may</td>\n",
              "      <td>261</td>\n",
              "      <td>1</td>\n",
              "      <td>-1</td>\n",
              "      <td>0</td>\n",
              "      <td>unknown</td>\n",
              "      <td>no</td>\n",
              "    </tr>\n",
              "    <tr>\n",
              "      <th>1</th>\n",
              "      <td>44</td>\n",
              "      <td>technician</td>\n",
              "      <td>60000</td>\n",
              "      <td>single</td>\n",
              "      <td>secondary</td>\n",
              "      <td>yes</td>\n",
              "      <td>no</td>\n",
              "      <td>29</td>\n",
              "      <td>yes</td>\n",
              "      <td>no</td>\n",
              "      <td>unknown</td>\n",
              "      <td>5</td>\n",
              "      <td>may</td>\n",
              "      <td>151</td>\n",
              "      <td>1</td>\n",
              "      <td>-1</td>\n",
              "      <td>0</td>\n",
              "      <td>unknown</td>\n",
              "      <td>no</td>\n",
              "    </tr>\n",
              "    <tr>\n",
              "      <th>2</th>\n",
              "      <td>33</td>\n",
              "      <td>entrepreneur</td>\n",
              "      <td>120000</td>\n",
              "      <td>married</td>\n",
              "      <td>secondary</td>\n",
              "      <td>yes</td>\n",
              "      <td>no</td>\n",
              "      <td>2</td>\n",
              "      <td>yes</td>\n",
              "      <td>yes</td>\n",
              "      <td>unknown</td>\n",
              "      <td>5</td>\n",
              "      <td>may</td>\n",
              "      <td>76</td>\n",
              "      <td>1</td>\n",
              "      <td>-1</td>\n",
              "      <td>0</td>\n",
              "      <td>unknown</td>\n",
              "      <td>no</td>\n",
              "    </tr>\n",
              "    <tr>\n",
              "      <th>3</th>\n",
              "      <td>47</td>\n",
              "      <td>blue-collar</td>\n",
              "      <td>20000</td>\n",
              "      <td>married</td>\n",
              "      <td>unknown</td>\n",
              "      <td>no</td>\n",
              "      <td>no</td>\n",
              "      <td>1506</td>\n",
              "      <td>yes</td>\n",
              "      <td>no</td>\n",
              "      <td>unknown</td>\n",
              "      <td>5</td>\n",
              "      <td>may</td>\n",
              "      <td>92</td>\n",
              "      <td>1</td>\n",
              "      <td>-1</td>\n",
              "      <td>0</td>\n",
              "      <td>unknown</td>\n",
              "      <td>no</td>\n",
              "    </tr>\n",
              "    <tr>\n",
              "      <th>4</th>\n",
              "      <td>33</td>\n",
              "      <td>unknown</td>\n",
              "      <td>0</td>\n",
              "      <td>single</td>\n",
              "      <td>unknown</td>\n",
              "      <td>no</td>\n",
              "      <td>no</td>\n",
              "      <td>1</td>\n",
              "      <td>no</td>\n",
              "      <td>no</td>\n",
              "      <td>unknown</td>\n",
              "      <td>5</td>\n",
              "      <td>may</td>\n",
              "      <td>198</td>\n",
              "      <td>1</td>\n",
              "      <td>-1</td>\n",
              "      <td>0</td>\n",
              "      <td>unknown</td>\n",
              "      <td>no</td>\n",
              "    </tr>\n",
              "  </tbody>\n",
              "</table>\n",
              "</div>"
            ],
            "text/plain": [
              "   age           job  salary  marital  ... pdays previous poutcome  response\n",
              "0   58    management  100000  married  ...    -1        0  unknown        no\n",
              "1   44    technician   60000   single  ...    -1        0  unknown        no\n",
              "2   33  entrepreneur  120000  married  ...    -1        0  unknown        no\n",
              "3   47   blue-collar   20000  married  ...    -1        0  unknown        no\n",
              "4   33       unknown       0   single  ...    -1        0  unknown        no\n",
              "\n",
              "[5 rows x 19 columns]"
            ]
          },
          "metadata": {
            "tags": []
          },
          "execution_count": 4
        }
      ]
    },
    {
      "cell_type": "code",
      "metadata": {
        "colab": {
          "base_uri": "https://localhost:8080/"
        },
        "id": "boQUUIeUZFjd",
        "outputId": "3919c179-ec27-4366-d14e-5efb1193cece"
      },
      "source": [
        "bm0.info()"
      ],
      "execution_count": null,
      "outputs": [
        {
          "output_type": "stream",
          "text": [
            "<class 'pandas.core.frame.DataFrame'>\n",
            "RangeIndex: 45211 entries, 0 to 45210\n",
            "Data columns (total 19 columns):\n",
            " #   Column     Non-Null Count  Dtype \n",
            "---  ------     --------------  ----- \n",
            " 0   age        45211 non-null  int64 \n",
            " 1   job        45211 non-null  object\n",
            " 2   salary     45211 non-null  int64 \n",
            " 3   marital    45211 non-null  object\n",
            " 4   education  45211 non-null  object\n",
            " 5   targeted   45211 non-null  object\n",
            " 6   default    45211 non-null  object\n",
            " 7   balance    45211 non-null  int64 \n",
            " 8   housing    45211 non-null  object\n",
            " 9   loan       45211 non-null  object\n",
            " 10  contact    45211 non-null  object\n",
            " 11  day        45211 non-null  int64 \n",
            " 12  month      45211 non-null  object\n",
            " 13  duration   45211 non-null  int64 \n",
            " 14  campaign   45211 non-null  int64 \n",
            " 15  pdays      45211 non-null  int64 \n",
            " 16  previous   45211 non-null  int64 \n",
            " 17  poutcome   45211 non-null  object\n",
            " 18  response   45211 non-null  object\n",
            "dtypes: int64(8), object(11)\n",
            "memory usage: 6.6+ MB\n"
          ],
          "name": "stdout"
        }
      ]
    },
    {
      "cell_type": "markdown",
      "metadata": {
        "id": "55UAZziwZeIN"
      },
      "source": [
        "Hence dataset does not contain any missing value."
      ]
    },
    {
      "cell_type": "code",
      "metadata": {
        "id": "PNMAroqrZFel"
      },
      "source": [
        "#Univariate Analysis"
      ],
      "execution_count": null,
      "outputs": []
    },
    {
      "cell_type": "code",
      "metadata": {
        "colab": {
          "base_uri": "https://localhost:8080/",
          "height": 295
        },
        "id": "f8odsy-5ZFbt",
        "outputId": "5774032a-ec3e-4323-a8e2-e42fdb4084ea"
      },
      "source": [
        "bm0.describe()\n"
      ],
      "execution_count": null,
      "outputs": [
        {
          "output_type": "execute_result",
          "data": {
            "text/html": [
              "<div>\n",
              "<style scoped>\n",
              "    .dataframe tbody tr th:only-of-type {\n",
              "        vertical-align: middle;\n",
              "    }\n",
              "\n",
              "    .dataframe tbody tr th {\n",
              "        vertical-align: top;\n",
              "    }\n",
              "\n",
              "    .dataframe thead th {\n",
              "        text-align: right;\n",
              "    }\n",
              "</style>\n",
              "<table border=\"1\" class=\"dataframe\">\n",
              "  <thead>\n",
              "    <tr style=\"text-align: right;\">\n",
              "      <th></th>\n",
              "      <th>age</th>\n",
              "      <th>salary</th>\n",
              "      <th>balance</th>\n",
              "      <th>day</th>\n",
              "      <th>duration</th>\n",
              "      <th>campaign</th>\n",
              "      <th>pdays</th>\n",
              "      <th>previous</th>\n",
              "    </tr>\n",
              "  </thead>\n",
              "  <tbody>\n",
              "    <tr>\n",
              "      <th>count</th>\n",
              "      <td>45211.000000</td>\n",
              "      <td>45211.000000</td>\n",
              "      <td>45211.000000</td>\n",
              "      <td>45211.000000</td>\n",
              "      <td>45211.000000</td>\n",
              "      <td>45211.000000</td>\n",
              "      <td>45211.000000</td>\n",
              "      <td>45211.000000</td>\n",
              "    </tr>\n",
              "    <tr>\n",
              "      <th>mean</th>\n",
              "      <td>40.936210</td>\n",
              "      <td>57006.171065</td>\n",
              "      <td>1362.272058</td>\n",
              "      <td>15.806419</td>\n",
              "      <td>258.163080</td>\n",
              "      <td>2.763841</td>\n",
              "      <td>40.197828</td>\n",
              "      <td>0.580323</td>\n",
              "    </tr>\n",
              "    <tr>\n",
              "      <th>std</th>\n",
              "      <td>10.618762</td>\n",
              "      <td>32085.718415</td>\n",
              "      <td>3044.765829</td>\n",
              "      <td>8.322476</td>\n",
              "      <td>257.527812</td>\n",
              "      <td>3.098021</td>\n",
              "      <td>100.128746</td>\n",
              "      <td>2.303441</td>\n",
              "    </tr>\n",
              "    <tr>\n",
              "      <th>min</th>\n",
              "      <td>18.000000</td>\n",
              "      <td>0.000000</td>\n",
              "      <td>-8019.000000</td>\n",
              "      <td>1.000000</td>\n",
              "      <td>0.000000</td>\n",
              "      <td>1.000000</td>\n",
              "      <td>-1.000000</td>\n",
              "      <td>0.000000</td>\n",
              "    </tr>\n",
              "    <tr>\n",
              "      <th>25%</th>\n",
              "      <td>33.000000</td>\n",
              "      <td>20000.000000</td>\n",
              "      <td>72.000000</td>\n",
              "      <td>8.000000</td>\n",
              "      <td>103.000000</td>\n",
              "      <td>1.000000</td>\n",
              "      <td>-1.000000</td>\n",
              "      <td>0.000000</td>\n",
              "    </tr>\n",
              "    <tr>\n",
              "      <th>50%</th>\n",
              "      <td>39.000000</td>\n",
              "      <td>60000.000000</td>\n",
              "      <td>448.000000</td>\n",
              "      <td>16.000000</td>\n",
              "      <td>180.000000</td>\n",
              "      <td>2.000000</td>\n",
              "      <td>-1.000000</td>\n",
              "      <td>0.000000</td>\n",
              "    </tr>\n",
              "    <tr>\n",
              "      <th>75%</th>\n",
              "      <td>48.000000</td>\n",
              "      <td>70000.000000</td>\n",
              "      <td>1428.000000</td>\n",
              "      <td>21.000000</td>\n",
              "      <td>319.000000</td>\n",
              "      <td>3.000000</td>\n",
              "      <td>-1.000000</td>\n",
              "      <td>0.000000</td>\n",
              "    </tr>\n",
              "    <tr>\n",
              "      <th>max</th>\n",
              "      <td>95.000000</td>\n",
              "      <td>120000.000000</td>\n",
              "      <td>102127.000000</td>\n",
              "      <td>31.000000</td>\n",
              "      <td>4918.000000</td>\n",
              "      <td>63.000000</td>\n",
              "      <td>871.000000</td>\n",
              "      <td>275.000000</td>\n",
              "    </tr>\n",
              "  </tbody>\n",
              "</table>\n",
              "</div>"
            ],
            "text/plain": [
              "                age         salary  ...         pdays      previous\n",
              "count  45211.000000   45211.000000  ...  45211.000000  45211.000000\n",
              "mean      40.936210   57006.171065  ...     40.197828      0.580323\n",
              "std       10.618762   32085.718415  ...    100.128746      2.303441\n",
              "min       18.000000       0.000000  ...     -1.000000      0.000000\n",
              "25%       33.000000   20000.000000  ...     -1.000000      0.000000\n",
              "50%       39.000000   60000.000000  ...     -1.000000      0.000000\n",
              "75%       48.000000   70000.000000  ...     -1.000000      0.000000\n",
              "max       95.000000  120000.000000  ...    871.000000    275.000000\n",
              "\n",
              "[8 rows x 8 columns]"
            ]
          },
          "metadata": {
            "tags": []
          },
          "execution_count": 9
        }
      ]
    },
    {
      "cell_type": "markdown",
      "metadata": {
        "id": "nNequ9dCZ2Em"
      },
      "source": [
        "Describe the pdays column, make note of the mean, median and minimum values. Anything fishy in the values?¶\n"
      ]
    },
    {
      "cell_type": "code",
      "metadata": {
        "colab": {
          "base_uri": "https://localhost:8080/"
        },
        "id": "qvHR7K_XZFUJ",
        "outputId": "f2ff297a-f1ab-4184-c0aa-7532d881cd0f"
      },
      "source": [
        "bm0.pdays.describe()\n"
      ],
      "execution_count": null,
      "outputs": [
        {
          "output_type": "execute_result",
          "data": {
            "text/plain": [
              "count    45211.000000\n",
              "mean        40.197828\n",
              "std        100.128746\n",
              "min         -1.000000\n",
              "25%         -1.000000\n",
              "50%         -1.000000\n",
              "75%         -1.000000\n",
              "max        871.000000\n",
              "Name: pdays, dtype: float64"
            ]
          },
          "metadata": {
            "tags": []
          },
          "execution_count": 10
        }
      ]
    },
    {
      "cell_type": "markdown",
      "metadata": {
        "id": "b5Bd6VagaAWa"
      },
      "source": [
        "If we purely look at numerical summary ie mean and standard deviation, we can't see that lot of values is -1. We can see that 75% values of pdays are -1. So -1 has special meaning over here ie previous campaign was made to them or not. So in our case if we want to make decision on customer who did have campaign previously, then we must exclude all the cases of -1. So, by doing this we can get to customer who had previously campaign.\n",
        "\n",
        "Describe the pdays column again, this time limiting yourself to the relevant values of pdays. How different are the mean and the median values?\n",
        "pdays uses -1 as indicator and not value. Hence treat these value as missing\n",
        "\n",
        "Ignore these values in our average/median/state calculations.\n",
        "Keep it NaN\n",
        "Wherever pdays is -1, replace with NaN"
      ]
    },
    {
      "cell_type": "code",
      "metadata": {
        "id": "vQ5cbsNnZFMb"
      },
      "source": [
        "bm1=bm0.copy()"
      ],
      "execution_count": null,
      "outputs": []
    },
    {
      "cell_type": "code",
      "metadata": {
        "id": "1JCnyWmUZFJm"
      },
      "source": [
        "bm1.drop(bm1[bm1['pdays'] < 0].index, inplace = True) "
      ],
      "execution_count": null,
      "outputs": []
    },
    {
      "cell_type": "code",
      "metadata": {
        "colab": {
          "base_uri": "https://localhost:8080/"
        },
        "id": "uAxayHJ7ZFHU",
        "outputId": "b003f37d-be2f-4ea9-deb4-ddb8104e321e"
      },
      "source": [
        "\n",
        "bm1.pdays.describe()"
      ],
      "execution_count": null,
      "outputs": [
        {
          "output_type": "execute_result",
          "data": {
            "text/plain": [
              "count    8257.000000\n",
              "mean      224.577692\n",
              "std       115.344035\n",
              "min         1.000000\n",
              "25%       133.000000\n",
              "50%       194.000000\n",
              "75%       327.000000\n",
              "max       871.000000\n",
              "Name: pdays, dtype: float64"
            ]
          },
          "metadata": {
            "tags": []
          },
          "execution_count": 14
        }
      ]
    },
    {
      "cell_type": "markdown",
      "metadata": {
        "id": "f4h638efaPhg"
      },
      "source": [
        "This time mean and median has changed significantly because we have removed the case where pdays value is -1 ie we have removed the customer that were not contacted previously for campaign.\n",
        "\n",
        "**Plot a horizontal bar graph with the median values of balance for each education level value. Which group has the highest median?**\n"
      ]
    },
    {
      "cell_type": "code",
      "metadata": {
        "colab": {
          "base_uri": "https://localhost:8080/",
          "height": 282
        },
        "id": "yyHL9a3gZFAH",
        "outputId": "40f3e3ed-26a2-4ec8-8fe8-f9e4f552cb74"
      },
      "source": [
        "bm1.groupby(['education'])['balance'].median().plot.barh()"
      ],
      "execution_count": null,
      "outputs": [
        {
          "output_type": "execute_result",
          "data": {
            "text/plain": [
              "<matplotlib.axes._subplots.AxesSubplot at 0x7f33d9652c50>"
            ]
          },
          "metadata": {
            "tags": []
          },
          "execution_count": 15
        },
        {
          "output_type": "display_data",
          "data": {
            "image/png": "[encoded data removed]",
            "text/plain": [
              "<Figure size 432x288 with 1 Axes>"
            ]
          },
          "metadata": {
            "tags": [],
            "needs_background": "light"
          }
        }
      ]
    },
    {
      "cell_type": "code",
      "metadata": {
        "id": "w7kUZtVHaZDl"
      },
      "source": [
        "#Thus, we can conclude from graph that customer with tertiary level of education has highest median value for balance."
      ],
      "execution_count": null,
      "outputs": []
    },
    {
      "cell_type": "markdown",
      "metadata": {
        "id": "g8oFT7pEadu-"
      },
      "source": [
        "Make a box plot for pdays. Do you see any outliers?\n"
      ]
    },
    {
      "cell_type": "code",
      "metadata": {
        "colab": {
          "base_uri": "https://localhost:8080/",
          "height": 265
        },
        "id": "dr5ykb9caZAq",
        "outputId": "3bf62e58-6ce9-45a3-e721-8251531fd741"
      },
      "source": [
        "bm1.pdays.plot.box()\n",
        "plt.show()"
      ],
      "execution_count": null,
      "outputs": [
        {
          "output_type": "display_data",
          "data": {
            "image/png": "[encoded data removed]",
            "text/plain": [
              "<Figure size 432x288 with 1 Axes>"
            ]
          },
          "metadata": {
            "tags": [],
            "needs_background": "light"
          }
        }
      ]
    },
    {
      "cell_type": "markdown",
      "metadata": {
        "id": "vgiFrDm8ajqU"
      },
      "source": [
        "Yes, from the above box plot we can see that there are outliers present in pdays.\n",
        "\n"
      ]
    },
    {
      "cell_type": "markdown",
      "metadata": {
        "id": "LFGo5MSKarY8"
      },
      "source": [
        "The final goal is to make a predictive model to predict if the customer will respond positively to the campaign or not. The target variable is “response”. So performing bi-variate analysis to identify the features that are directly associated with the target variable.\n",
        "Bi- variate Analysis\n",
        "Converting the response variable to a convenient form"
      ]
    },
    {
      "cell_type": "code",
      "metadata": {
        "colab": {
          "base_uri": "https://localhost:8080/"
        },
        "id": "KMqoT7BsaY4Z",
        "outputId": "5be6988f-db25-4045-9a55-3f6bfbfac5e3"
      },
      "source": [
        "bm1.response.value_counts(normalize=True)"
      ],
      "execution_count": null,
      "outputs": [
        {
          "output_type": "execute_result",
          "data": {
            "text/plain": [
              "no     0.769287\n",
              "yes    0.230713\n",
              "Name: response, dtype: float64"
            ]
          },
          "metadata": {
            "tags": []
          },
          "execution_count": 19
        }
      ]
    },
    {
      "cell_type": "code",
      "metadata": {
        "id": "J66Q_By6aY1g"
      },
      "source": [
        "bm1.replace({'response': {\"yes\": 1,'no':0}},inplace=True)"
      ],
      "execution_count": null,
      "outputs": []
    },
    {
      "cell_type": "code",
      "metadata": {
        "colab": {
          "base_uri": "https://localhost:8080/"
        },
        "id": "U0g1yzl3aYy1",
        "outputId": "9ab00793-0aad-4ab1-d6c9-830782538fd8"
      },
      "source": [
        "bm1.response.value_counts()"
      ],
      "execution_count": null,
      "outputs": [
        {
          "output_type": "execute_result",
          "data": {
            "text/plain": [
              "no     6352\n",
              "yes    1905\n",
              "Name: response, dtype: int64"
            ]
          },
          "metadata": {
            "tags": []
          },
          "execution_count": 20
        }
      ]
    },
    {
      "cell_type": "markdown",
      "metadata": {
        "id": "dH1oRbhya6_q"
      },
      "source": [
        "Make suitable plots for associations with numerical features and categorical features\n"
      ]
    },
    {
      "cell_type": "code",
      "metadata": {
        "id": "Ymo7yRL9aYuM"
      },
      "source": [
        "# here we are seperating object and numerical data types \n",
        "obj_col = []\n",
        "num_col = []\n",
        "for col in bm1.columns:\n",
        "    if bm1[col].dtype=='O':\n",
        "        obj_col.append(col)\n",
        "    else:\n",
        "        num_col.append(col)"
      ],
      "execution_count": null,
      "outputs": []
    },
    {
      "cell_type": "code",
      "metadata": {
        "colab": {
          "base_uri": "https://localhost:8080/"
        },
        "id": "uJVl0d29aYrw",
        "outputId": "13c42a58-643d-48cf-99e9-67abbdfde937"
      },
      "source": [
        "print(\"Object data type features \",obj_col)\n",
        "print(\"Numerical data type features \",num_col)"
      ],
      "execution_count": null,
      "outputs": [
        {
          "output_type": "stream",
          "text": [
            "Object data type features  ['job', 'marital', 'education', 'targeted', 'default', 'housing', 'loan', 'contact', 'month', 'poutcome']\n",
            "Numerical data type features  ['age', 'salary', 'balance', 'day', 'duration', 'campaign', 'pdays', 'previous', 'response']\n"
          ],
          "name": "stdout"
        }
      ]
    },
    {
      "cell_type": "code",
      "metadata": {
        "colab": {
          "base_uri": "https://localhost:8080/",
          "height": 1000
        },
        "id": "nREk-bvaaYpm",
        "outputId": "55030ede-ffb3-4d48-8160-44114bcddbd5"
      },
      "source": [
        "from numpy import median\n",
        "for col in obj_col[1:]:\n",
        "    plt.figure(figsize=(8,6))\n",
        "    sns.violinplot(bm1[col],bm1[\"response\"])\n",
        "    plt.title(\"Response vs \"+col,fontsize=15)\n",
        "    plt.xlabel(col,fontsize=10)\n",
        "    plt.ylabel(\"Response\",fontsize=10)\n",
        "    plt.show()\n",
        "#sns.despine()\n",
        "# violin plots give best of both worlds \n",
        "# it gives boxplot and distribution of data like whether the data is skewed or not.\n",
        "# if normally distributed then it's the best you can get.\n",
        "# you can also use barplots in this case."
      ],
      "execution_count": null,
      "outputs": [
        {
          "output_type": "stream",
          "text": [
            "/usr/local/lib/python3.7/dist-packages/seaborn/_decorators.py:43: FutureWarning: Pass the following variables as keyword args: x, y. From version 0.12, the only valid positional argument will be `data`, and passing other arguments without an explicit keyword will result in an error or misinterpretation.\n",
            "  FutureWarning\n"
          ],
          "name": "stderr"
        },
        {
          "output_type": "display_data",
          "data": {
            "image/png": "[encoded data removed]",
            "text/plain": [
              "<Figure size 576x432 with 1 Axes>"
            ]
          },
          "metadata": {
            "tags": [],
            "needs_background": "light"
          }
        },
        {
          "output_type": "stream",
          "text": [
            "/usr/local/lib/python3.7/dist-packages/seaborn/_decorators.py:43: FutureWarning: Pass the following variables as keyword args: x, y. From version 0.12, the only valid positional argument will be `data`, and passing other arguments without an explicit keyword will result in an error or misinterpretation.\n",
            "  FutureWarning\n"
          ],
          "name": "stderr"
        },
        {
          "output_type": "display_data",
          "data": {
            "image/png": "[encoded data removed]",
            "text/plain": [
              "<Figure size 576x432 with 1 Axes>"
            ]
          },
          "metadata": {
            "tags": [],
            "needs_background": "light"
          }
        },
        {
          "output_type": "stream",
          "text": [
            "/usr/local/lib/python3.7/dist-packages/seaborn/_decorators.py:43: FutureWarning: Pass the following variables as keyword args: x, y. From version 0.12, the only valid positional argument will be `data`, and passing other arguments without an explicit keyword will result in an error or misinterpretation.\n",
            "  FutureWarning\n"
          ],
          "name": "stderr"
        },
        {
          "output_type": "display_data",
          "data": {
            "image/png": "[encoded data removed]",
            "text/plain": [
              "<Figure size 576x432 with 1 Axes>"
            ]
          },
          "metadata": {
            "tags": [],
            "needs_background": "light"
          }
        },
        {
          "output_type": "stream",
          "text": [
            "/usr/local/lib/python3.7/dist-packages/seaborn/_decorators.py:43: FutureWarning: Pass the following variables as keyword args: x, y. From version 0.12, the only valid positional argument will be `data`, and passing other arguments without an explicit keyword will result in an error or misinterpretation.\n",
            "  FutureWarning\n"
          ],
          "name": "stderr"
        },
        {
          "output_type": "display_data",
          "data": {
            "image/png": "[encoded data removed]",
            "text/plain": [
              "<Figure size 576x432 with 1 Axes>"
            ]
          },
          "metadata": {
            "tags": [],
            "needs_background": "light"
          }
        },
        {
          "output_type": "stream",
          "text": [
            "/usr/local/lib/python3.7/dist-packages/seaborn/_decorators.py:43: FutureWarning: Pass the following variables as keyword args: x, y. From version 0.12, the only valid positional argument will be `data`, and passing other arguments without an explicit keyword will result in an error or misinterpretation.\n",
            "  FutureWarning\n"
          ],
          "name": "stderr"
        },
        {
          "output_type": "display_data",
          "data": {
            "image/png": "[encoded data removed]",
            "text/plain": [
              "<Figure size 576x432 with 1 Axes>"
            ]
          },
          "metadata": {
            "tags": [],
            "needs_background": "light"
          }
        },
        {
          "output_type": "stream",
          "text": [
            "/usr/local/lib/python3.7/dist-packages/seaborn/_decorators.py:43: FutureWarning: Pass the following variables as keyword args: x, y. From version 0.12, the only valid positional argument will be `data`, and passing other arguments without an explicit keyword will result in an error or misinterpretation.\n",
            "  FutureWarning\n"
          ],
          "name": "stderr"
        },
        {
          "output_type": "display_data",
          "data": {
            "image/png": "[encoded data removed]",
            "text/plain": [
              "<Figure size 576x432 with 1 Axes>"
            ]
          },
          "metadata": {
            "tags": [],
            "needs_background": "light"
          }
        },
        {
          "output_type": "stream",
          "text": [
            "/usr/local/lib/python3.7/dist-packages/seaborn/_decorators.py:43: FutureWarning: Pass the following variables as keyword args: x, y. From version 0.12, the only valid positional argument will be `data`, and passing other arguments without an explicit keyword will result in an error or misinterpretation.\n",
            "  FutureWarning\n"
          ],
          "name": "stderr"
        },
        {
          "output_type": "display_data",
          "data": {
            "image/png": "[encoded data removed]",
            "text/plain": [
              "<Figure size 576x432 with 1 Axes>"
            ]
          },
          "metadata": {
            "tags": [],
            "needs_background": "light"
          }
        },
        {
          "output_type": "stream",
          "text": [
            "/usr/local/lib/python3.7/dist-packages/seaborn/_decorators.py:43: FutureWarning: Pass the following variables as keyword args: x, y. From version 0.12, the only valid positional argument will be `data`, and passing other arguments without an explicit keyword will result in an error or misinterpretation.\n",
            "  FutureWarning\n"
          ],
          "name": "stderr"
        },
        {
          "output_type": "display_data",
          "data": {
            "image/png": "[encoded data removed]",
            "text/plain": [
              "<Figure size 576x432 with 1 Axes>"
            ]
          },
          "metadata": {
            "tags": [],
            "needs_background": "light"
          }
        },
        {
          "output_type": "stream",
          "text": [
            "/usr/local/lib/python3.7/dist-packages/seaborn/_decorators.py:43: FutureWarning: Pass the following variables as keyword args: x, y. From version 0.12, the only valid positional argument will be `data`, and passing other arguments without an explicit keyword will result in an error or misinterpretation.\n",
            "  FutureWarning\n"
          ],
          "name": "stderr"
        },
        {
          "output_type": "display_data",
          "data": {
            "image/png": "[encoded data removed]",
            "text/plain": [
              "<Figure size 576x432 with 1 Axes>"
            ]
          },
          "metadata": {
            "tags": [],
            "needs_background": "light"
          }
        }
      ]
    },
    {
      "cell_type": "code",
      "metadata": {
        "colab": {
          "base_uri": "https://localhost:8080/",
          "height": 429
        },
        "id": "CW76l7t4aYme",
        "outputId": "e4fe5e78-447e-4916-8ba7-648315c9d042"
      },
      "source": [
        "plt.figure(figsize=(8,6))\n",
        "sns.heatmap(bm1.corr(),annot=True,cmap='RdBu_r')\n",
        "plt.title(\"Correlation Of Each Numerical Features\")\n",
        "plt.show()"
      ],
      "execution_count": null,
      "outputs": [
        {
          "output_type": "display_data",
          "data": {
            "image/png": "[encoded data removed]",
            "text/plain": [
              "<Figure size 576x432 with 2 Axes>"
            ]
          },
          "metadata": {
            "tags": [],
            "needs_background": "light"
          }
        }
      ]
    },
    {
      "cell_type": "markdown",
      "metadata": {
        "id": "2SuSADZubNOh"
      },
      "source": [
        "we can see that duration variable is highly correlated with response variable 'Response Flag' . Whereas pdays variable is not highly correlated with response variable 'Response Flag'."
      ]
    },
    {
      "cell_type": "code",
      "metadata": {
        "colab": {
          "base_uri": "https://localhost:8080/",
          "height": 1000
        },
        "id": "5M_6TdmfaYj3",
        "outputId": "1546d335-da99-4126-fc3f-cdfac0b8a3aa"
      },
      "source": [
        "for col in num_col[:-1]:\n",
        "    plt.figure(figsize=(10,8))\n",
        "    sns.jointplot(x = bm1[col],y = bm1[\"response\"],kind='reg')\n",
        "    plt.xlabel(col,fontsize = 15)\n",
        "    plt.ylabel(\"Response\",fontsize = 15)\n",
        "    plt.grid()\n",
        "    plt.show()"
      ],
      "execution_count": null,
      "outputs": [
        {
          "output_type": "display_data",
          "data": {
            "text/plain": [
              "<Figure size 720x576 with 0 Axes>"
            ]
          },
          "metadata": {
            "tags": []
          }
        },
        {
          "output_type": "display_data",
          "data": {
            "image/png": "[encoded data removed]",
            "text/plain": [
              "<Figure size 432x432 with 3 Axes>"
            ]
          },
          "metadata": {
            "tags": [],
            "needs_background": "light"
          }
        },
        {
          "output_type": "display_data",
          "data": {
            "text/plain": [
              "<Figure size 720x576 with 0 Axes>"
            ]
          },
          "metadata": {
            "tags": []
          }
        },
        {
          "output_type": "display_data",
          "data": {
            "image/png": "[encoded data removed]",
            "text/plain": [
              "<Figure size 432x432 with 3 Axes>"
            ]
          },
          "metadata": {
            "tags": [],
            "needs_background": "light"
          }
        },
        {
          "output_type": "display_data",
          "data": {
            "text/plain": [
              "<Figure size 720x576 with 0 Axes>"
            ]
          },
          "metadata": {
            "tags": []
          }
        },
        {
          "output_type": "display_data",
          "data": {
            "image/png": "[encoded data removed]",
            "text/plain": [
              "<Figure size 432x432 with 3 Axes>"
            ]
          },
          "metadata": {
            "tags": [],
            "needs_background": "light"
          }
        },
        {
          "output_type": "display_data",
          "data": {
            "text/plain": [
              "<Figure size 720x576 with 0 Axes>"
            ]
          },
          "metadata": {
            "tags": []
          }
        },
        {
          "output_type": "display_data",
          "data": {
            "image/png": "[encoded data removed]",
            "text/plain": [
              "<Figure size 432x432 with 3 Axes>"
            ]
          },
          "metadata": {
            "tags": [],
            "needs_background": "light"
          }
        },
        {
          "output_type": "display_data",
          "data": {
            "text/plain": [
              "<Figure size 720x576 with 0 Axes>"
            ]
          },
          "metadata": {
            "tags": []
          }
        },
        {
          "output_type": "display_data",
          "data": {
            "image/png": "[encoded data removed]",
            "text/plain": [
              "<Figure size 432x432 with 3 Axes>"
            ]
          },
          "metadata": {
            "tags": [],
            "needs_background": "light"
          }
        },
        {
          "output_type": "display_data",
          "data": {
            "text/plain": [
              "<Figure size 720x576 with 0 Axes>"
            ]
          },
          "metadata": {
            "tags": []
          }
        },
        {
          "output_type": "display_data",
          "data": {
            "image/png": "[encoded data removed]",
            "text/plain": [
              "<Figure size 432x432 with 3 Axes>"
            ]
          },
          "metadata": {
            "tags": [],
            "needs_background": "light"
          }
        },
        {
          "output_type": "display_data",
          "data": {
            "text/plain": [
              "<Figure size 720x576 with 0 Axes>"
            ]
          },
          "metadata": {
            "tags": []
          }
        },
        {
          "output_type": "display_data",
          "data": {
            "image/png": "[encoded data removed]",
            "text/plain": [
              "<Figure size 432x432 with 3 Axes>"
            ]
          },
          "metadata": {
            "tags": [],
            "needs_background": "light"
          }
        },
        {
          "output_type": "display_data",
          "data": {
            "text/plain": [
              "<Figure size 720x576 with 0 Axes>"
            ]
          },
          "metadata": {
            "tags": []
          }
        },
        {
          "output_type": "display_data",
          "data": {
            "image/png": "[encoded data removed]",
            "text/plain": [
              "<Figure size 432x432 with 3 Axes>"
            ]
          },
          "metadata": {
            "tags": [],
            "needs_background": "light"
          }
        }
      ]
    },
    {
      "cell_type": "markdown",
      "metadata": {
        "id": "HoL817djbWAJ"
      },
      "source": [
        "Label Encoding of Categorical Variables.¶\n"
      ]
    },
    {
      "cell_type": "code",
      "metadata": {
        "id": "b__0gtsFbXNn"
      },
      "source": [
        "from sklearn.preprocessing import LabelEncoder\n"
      ],
      "execution_count": null,
      "outputs": []
    },
    {
      "cell_type": "code",
      "metadata": {
        "id": "vFWlYKOjbYUz"
      },
      "source": [
        "bm2 = bm1[obj_col].apply(LabelEncoder().fit_transform)"
      ],
      "execution_count": null,
      "outputs": []
    },
    {
      "cell_type": "code",
      "metadata": {
        "colab": {
          "base_uri": "https://localhost:8080/",
          "height": 203
        },
        "id": "pffiXyutbYQC",
        "outputId": "cc7feb4f-707e-4fa5-e5e0-662e9b97bca1"
      },
      "source": [
        "bm2.head()"
      ],
      "execution_count": null,
      "outputs": [
        {
          "output_type": "execute_result",
          "data": {
            "text/html": [
              "<div>\n",
              "<style scoped>\n",
              "    .dataframe tbody tr th:only-of-type {\n",
              "        vertical-align: middle;\n",
              "    }\n",
              "\n",
              "    .dataframe tbody tr th {\n",
              "        vertical-align: top;\n",
              "    }\n",
              "\n",
              "    .dataframe thead th {\n",
              "        text-align: right;\n",
              "    }\n",
              "</style>\n",
              "<table border=\"1\" class=\"dataframe\">\n",
              "  <thead>\n",
              "    <tr style=\"text-align: right;\">\n",
              "      <th></th>\n",
              "      <th>job</th>\n",
              "      <th>marital</th>\n",
              "      <th>education</th>\n",
              "      <th>targeted</th>\n",
              "      <th>default</th>\n",
              "      <th>housing</th>\n",
              "      <th>loan</th>\n",
              "      <th>contact</th>\n",
              "      <th>month</th>\n",
              "      <th>poutcome</th>\n",
              "    </tr>\n",
              "  </thead>\n",
              "  <tbody>\n",
              "    <tr>\n",
              "      <th>24060</th>\n",
              "      <td>0</td>\n",
              "      <td>1</td>\n",
              "      <td>2</td>\n",
              "      <td>1</td>\n",
              "      <td>0</td>\n",
              "      <td>0</td>\n",
              "      <td>0</td>\n",
              "      <td>1</td>\n",
              "      <td>10</td>\n",
              "      <td>0</td>\n",
              "    </tr>\n",
              "    <tr>\n",
              "      <th>24062</th>\n",
              "      <td>0</td>\n",
              "      <td>2</td>\n",
              "      <td>1</td>\n",
              "      <td>1</td>\n",
              "      <td>0</td>\n",
              "      <td>1</td>\n",
              "      <td>1</td>\n",
              "      <td>1</td>\n",
              "      <td>10</td>\n",
              "      <td>1</td>\n",
              "    </tr>\n",
              "    <tr>\n",
              "      <th>24064</th>\n",
              "      <td>7</td>\n",
              "      <td>1</td>\n",
              "      <td>1</td>\n",
              "      <td>1</td>\n",
              "      <td>0</td>\n",
              "      <td>1</td>\n",
              "      <td>0</td>\n",
              "      <td>1</td>\n",
              "      <td>10</td>\n",
              "      <td>0</td>\n",
              "    </tr>\n",
              "    <tr>\n",
              "      <th>24072</th>\n",
              "      <td>4</td>\n",
              "      <td>1</td>\n",
              "      <td>2</td>\n",
              "      <td>1</td>\n",
              "      <td>0</td>\n",
              "      <td>1</td>\n",
              "      <td>0</td>\n",
              "      <td>1</td>\n",
              "      <td>10</td>\n",
              "      <td>1</td>\n",
              "    </tr>\n",
              "    <tr>\n",
              "      <th>24077</th>\n",
              "      <td>4</td>\n",
              "      <td>1</td>\n",
              "      <td>2</td>\n",
              "      <td>1</td>\n",
              "      <td>0</td>\n",
              "      <td>1</td>\n",
              "      <td>0</td>\n",
              "      <td>1</td>\n",
              "      <td>10</td>\n",
              "      <td>0</td>\n",
              "    </tr>\n",
              "  </tbody>\n",
              "</table>\n",
              "</div>"
            ],
            "text/plain": [
              "       job  marital  education  targeted  ...  loan  contact  month  poutcome\n",
              "24060    0        1          2         1  ...     0        1     10         0\n",
              "24062    0        2          1         1  ...     1        1     10         1\n",
              "24064    7        1          1         1  ...     0        1     10         0\n",
              "24072    4        1          2         1  ...     0        1     10         1\n",
              "24077    4        1          2         1  ...     0        1     10         0\n",
              "\n",
              "[5 rows x 10 columns]"
            ]
          },
          "metadata": {
            "tags": []
          },
          "execution_count": 29
        }
      ]
    },
    {
      "cell_type": "code",
      "metadata": {
        "id": "0jZk3NNebYLD"
      },
      "source": [
        "bm3 = bm2.join(bm1[num_col])"
      ],
      "execution_count": null,
      "outputs": []
    },
    {
      "cell_type": "code",
      "metadata": {
        "colab": {
          "base_uri": "https://localhost:8080/",
          "height": 223
        },
        "id": "AZKtMmhSbYI2",
        "outputId": "fe7c883e-da02-4d09-9f94-7b9c28b926a2"
      },
      "source": [
        "bm3.head()"
      ],
      "execution_count": null,
      "outputs": [
        {
          "output_type": "execute_result",
          "data": {
            "text/html": [
              "<div>\n",
              "<style scoped>\n",
              "    .dataframe tbody tr th:only-of-type {\n",
              "        vertical-align: middle;\n",
              "    }\n",
              "\n",
              "    .dataframe tbody tr th {\n",
              "        vertical-align: top;\n",
              "    }\n",
              "\n",
              "    .dataframe thead th {\n",
              "        text-align: right;\n",
              "    }\n",
              "</style>\n",
              "<table border=\"1\" class=\"dataframe\">\n",
              "  <thead>\n",
              "    <tr style=\"text-align: right;\">\n",
              "      <th></th>\n",
              "      <th>job</th>\n",
              "      <th>marital</th>\n",
              "      <th>education</th>\n",
              "      <th>targeted</th>\n",
              "      <th>default</th>\n",
              "      <th>housing</th>\n",
              "      <th>loan</th>\n",
              "      <th>contact</th>\n",
              "      <th>month</th>\n",
              "      <th>poutcome</th>\n",
              "      <th>age</th>\n",
              "      <th>salary</th>\n",
              "      <th>balance</th>\n",
              "      <th>day</th>\n",
              "      <th>duration</th>\n",
              "      <th>campaign</th>\n",
              "      <th>pdays</th>\n",
              "      <th>previous</th>\n",
              "      <th>response</th>\n",
              "    </tr>\n",
              "  </thead>\n",
              "  <tbody>\n",
              "    <tr>\n",
              "      <th>24060</th>\n",
              "      <td>0</td>\n",
              "      <td>1</td>\n",
              "      <td>2</td>\n",
              "      <td>1</td>\n",
              "      <td>0</td>\n",
              "      <td>0</td>\n",
              "      <td>0</td>\n",
              "      <td>1</td>\n",
              "      <td>10</td>\n",
              "      <td>0</td>\n",
              "      <td>33</td>\n",
              "      <td>50000</td>\n",
              "      <td>882</td>\n",
              "      <td>21</td>\n",
              "      <td>39</td>\n",
              "      <td>1</td>\n",
              "      <td>151</td>\n",
              "      <td>3</td>\n",
              "      <td>0</td>\n",
              "    </tr>\n",
              "    <tr>\n",
              "      <th>24062</th>\n",
              "      <td>0</td>\n",
              "      <td>2</td>\n",
              "      <td>1</td>\n",
              "      <td>1</td>\n",
              "      <td>0</td>\n",
              "      <td>1</td>\n",
              "      <td>1</td>\n",
              "      <td>1</td>\n",
              "      <td>10</td>\n",
              "      <td>1</td>\n",
              "      <td>42</td>\n",
              "      <td>50000</td>\n",
              "      <td>-247</td>\n",
              "      <td>21</td>\n",
              "      <td>519</td>\n",
              "      <td>1</td>\n",
              "      <td>166</td>\n",
              "      <td>1</td>\n",
              "      <td>1</td>\n",
              "    </tr>\n",
              "    <tr>\n",
              "      <th>24064</th>\n",
              "      <td>7</td>\n",
              "      <td>1</td>\n",
              "      <td>1</td>\n",
              "      <td>1</td>\n",
              "      <td>0</td>\n",
              "      <td>1</td>\n",
              "      <td>0</td>\n",
              "      <td>1</td>\n",
              "      <td>10</td>\n",
              "      <td>0</td>\n",
              "      <td>33</td>\n",
              "      <td>70000</td>\n",
              "      <td>3444</td>\n",
              "      <td>21</td>\n",
              "      <td>144</td>\n",
              "      <td>1</td>\n",
              "      <td>91</td>\n",
              "      <td>4</td>\n",
              "      <td>1</td>\n",
              "    </tr>\n",
              "    <tr>\n",
              "      <th>24072</th>\n",
              "      <td>4</td>\n",
              "      <td>1</td>\n",
              "      <td>2</td>\n",
              "      <td>1</td>\n",
              "      <td>0</td>\n",
              "      <td>1</td>\n",
              "      <td>0</td>\n",
              "      <td>1</td>\n",
              "      <td>10</td>\n",
              "      <td>1</td>\n",
              "      <td>36</td>\n",
              "      <td>100000</td>\n",
              "      <td>2415</td>\n",
              "      <td>22</td>\n",
              "      <td>73</td>\n",
              "      <td>1</td>\n",
              "      <td>86</td>\n",
              "      <td>4</td>\n",
              "      <td>0</td>\n",
              "    </tr>\n",
              "    <tr>\n",
              "      <th>24077</th>\n",
              "      <td>4</td>\n",
              "      <td>1</td>\n",
              "      <td>2</td>\n",
              "      <td>1</td>\n",
              "      <td>0</td>\n",
              "      <td>1</td>\n",
              "      <td>0</td>\n",
              "      <td>1</td>\n",
              "      <td>10</td>\n",
              "      <td>0</td>\n",
              "      <td>36</td>\n",
              "      <td>100000</td>\n",
              "      <td>0</td>\n",
              "      <td>23</td>\n",
              "      <td>140</td>\n",
              "      <td>1</td>\n",
              "      <td>143</td>\n",
              "      <td>3</td>\n",
              "      <td>1</td>\n",
              "    </tr>\n",
              "  </tbody>\n",
              "</table>\n",
              "</div>"
            ],
            "text/plain": [
              "       job  marital  education  targeted  ...  campaign  pdays  previous  response\n",
              "24060    0        1          2         1  ...         1    151         3         0\n",
              "24062    0        2          1         1  ...         1    166         1         1\n",
              "24064    7        1          1         1  ...         1     91         4         1\n",
              "24072    4        1          2         1  ...         1     86         4         0\n",
              "24077    4        1          2         1  ...         1    143         3         1\n",
              "\n",
              "[5 rows x 19 columns]"
            ]
          },
          "metadata": {
            "tags": []
          },
          "execution_count": 31
        }
      ]
    },
    {
      "cell_type": "code",
      "metadata": {
        "colab": {
          "base_uri": "https://localhost:8080/",
          "height": 654
        },
        "id": "wldCefwIbYGw",
        "outputId": "0ec835e7-1a14-40c5-d44f-5006516dd045"
      },
      "source": [
        "bm3.corr()"
      ],
      "execution_count": null,
      "outputs": [
        {
          "output_type": "execute_result",
          "data": {
            "text/html": [
              "<div>\n",
              "<style scoped>\n",
              "    .dataframe tbody tr th:only-of-type {\n",
              "        vertical-align: middle;\n",
              "    }\n",
              "\n",
              "    .dataframe tbody tr th {\n",
              "        vertical-align: top;\n",
              "    }\n",
              "\n",
              "    .dataframe thead th {\n",
              "        text-align: right;\n",
              "    }\n",
              "</style>\n",
              "<table border=\"1\" class=\"dataframe\">\n",
              "  <thead>\n",
              "    <tr style=\"text-align: right;\">\n",
              "      <th></th>\n",
              "      <th>job</th>\n",
              "      <th>marital</th>\n",
              "      <th>education</th>\n",
              "      <th>targeted</th>\n",
              "      <th>default</th>\n",
              "      <th>housing</th>\n",
              "      <th>loan</th>\n",
              "      <th>contact</th>\n",
              "      <th>month</th>\n",
              "      <th>poutcome</th>\n",
              "      <th>age</th>\n",
              "      <th>salary</th>\n",
              "      <th>balance</th>\n",
              "      <th>day</th>\n",
              "      <th>duration</th>\n",
              "      <th>campaign</th>\n",
              "      <th>pdays</th>\n",
              "      <th>previous</th>\n",
              "      <th>response</th>\n",
              "    </tr>\n",
              "  </thead>\n",
              "  <tbody>\n",
              "    <tr>\n",
              "      <th>job</th>\n",
              "      <td>1.000000</td>\n",
              "      <td>0.072746</td>\n",
              "      <td>0.159280</td>\n",
              "      <td>-0.091197</td>\n",
              "      <td>-0.021012</td>\n",
              "      <td>-0.132378</td>\n",
              "      <td>-0.033500</td>\n",
              "      <td>-0.006279</td>\n",
              "      <td>-0.002498</td>\n",
              "      <td>0.066642</td>\n",
              "      <td>-0.020606</td>\n",
              "      <td>0.115271</td>\n",
              "      <td>0.041975</td>\n",
              "      <td>0.013841</td>\n",
              "      <td>0.024449</td>\n",
              "      <td>-0.008764</td>\n",
              "      <td>-0.110505</td>\n",
              "      <td>-0.000266</td>\n",
              "      <td>0.081239</td>\n",
              "    </tr>\n",
              "    <tr>\n",
              "      <th>marital</th>\n",
              "      <td>0.072746</td>\n",
              "      <td>1.000000</td>\n",
              "      <td>0.121688</td>\n",
              "      <td>-0.255247</td>\n",
              "      <td>-0.005632</td>\n",
              "      <td>-0.056963</td>\n",
              "      <td>-0.055435</td>\n",
              "      <td>-0.031866</td>\n",
              "      <td>-0.024130</td>\n",
              "      <td>0.045015</td>\n",
              "      <td>-0.414972</td>\n",
              "      <td>-0.042212</td>\n",
              "      <td>-0.019767</td>\n",
              "      <td>0.016797</td>\n",
              "      <td>-0.009075</td>\n",
              "      <td>-0.008338</td>\n",
              "      <td>-0.011861</td>\n",
              "      <td>0.004536</td>\n",
              "      <td>0.049234</td>\n",
              "    </tr>\n",
              "    <tr>\n",
              "      <th>education</th>\n",
              "      <td>0.159280</td>\n",
              "      <td>0.121688</td>\n",
              "      <td>1.000000</td>\n",
              "      <td>-0.632513</td>\n",
              "      <td>-0.013682</td>\n",
              "      <td>-0.129804</td>\n",
              "      <td>-0.047718</td>\n",
              "      <td>-0.048456</td>\n",
              "      <td>-0.010829</td>\n",
              "      <td>0.082852</td>\n",
              "      <td>-0.119516</td>\n",
              "      <td>0.423157</td>\n",
              "      <td>0.074166</td>\n",
              "      <td>0.023542</td>\n",
              "      <td>-0.001142</td>\n",
              "      <td>-0.024343</td>\n",
              "      <td>-0.140155</td>\n",
              "      <td>0.000115</td>\n",
              "      <td>0.108098</td>\n",
              "    </tr>\n",
              "    <tr>\n",
              "      <th>targeted</th>\n",
              "      <td>-0.091197</td>\n",
              "      <td>-0.255247</td>\n",
              "      <td>-0.632513</td>\n",
              "      <td>1.000000</td>\n",
              "      <td>0.019593</td>\n",
              "      <td>0.087470</td>\n",
              "      <td>0.070420</td>\n",
              "      <td>0.020464</td>\n",
              "      <td>0.010187</td>\n",
              "      <td>-0.071356</td>\n",
              "      <td>0.140750</td>\n",
              "      <td>-0.228338</td>\n",
              "      <td>-0.052007</td>\n",
              "      <td>-0.026179</td>\n",
              "      <td>-0.014729</td>\n",
              "      <td>0.017948</td>\n",
              "      <td>0.075638</td>\n",
              "      <td>-0.001205</td>\n",
              "      <td>-0.091216</td>\n",
              "    </tr>\n",
              "    <tr>\n",
              "      <th>default</th>\n",
              "      <td>-0.021012</td>\n",
              "      <td>-0.005632</td>\n",
              "      <td>-0.013682</td>\n",
              "      <td>0.019593</td>\n",
              "      <td>1.000000</td>\n",
              "      <td>0.022644</td>\n",
              "      <td>0.052261</td>\n",
              "      <td>-0.019834</td>\n",
              "      <td>0.020123</td>\n",
              "      <td>-0.025566</td>\n",
              "      <td>-0.027825</td>\n",
              "      <td>0.000361</td>\n",
              "      <td>-0.045010</td>\n",
              "      <td>-0.001013</td>\n",
              "      <td>-0.002635</td>\n",
              "      <td>-0.002064</td>\n",
              "      <td>0.033760</td>\n",
              "      <td>0.012149</td>\n",
              "      <td>-0.028299</td>\n",
              "    </tr>\n",
              "    <tr>\n",
              "      <th>housing</th>\n",
              "      <td>-0.132378</td>\n",
              "      <td>-0.056963</td>\n",
              "      <td>-0.129804</td>\n",
              "      <td>0.087470</td>\n",
              "      <td>0.022644</td>\n",
              "      <td>1.000000</td>\n",
              "      <td>0.109815</td>\n",
              "      <td>-0.069869</td>\n",
              "      <td>0.014452</td>\n",
              "      <td>-0.284439</td>\n",
              "      <td>-0.179386</td>\n",
              "      <td>-0.035905</td>\n",
              "      <td>-0.109163</td>\n",
              "      <td>-0.066740</td>\n",
              "      <td>-0.072070</td>\n",
              "      <td>0.063071</td>\n",
              "      <td>0.335124</td>\n",
              "      <td>0.008934</td>\n",
              "      <td>-0.317501</td>\n",
              "    </tr>\n",
              "    <tr>\n",
              "      <th>loan</th>\n",
              "      <td>-0.033500</td>\n",
              "      <td>-0.055435</td>\n",
              "      <td>-0.047718</td>\n",
              "      <td>0.070420</td>\n",
              "      <td>0.052261</td>\n",
              "      <td>0.109815</td>\n",
              "      <td>1.000000</td>\n",
              "      <td>-0.020904</td>\n",
              "      <td>0.000524</td>\n",
              "      <td>-0.103154</td>\n",
              "      <td>-0.008330</td>\n",
              "      <td>0.013788</td>\n",
              "      <td>-0.085004</td>\n",
              "      <td>0.007550</td>\n",
              "      <td>-0.033874</td>\n",
              "      <td>0.007444</td>\n",
              "      <td>0.022454</td>\n",
              "      <td>0.016549</td>\n",
              "      <td>-0.115805</td>\n",
              "    </tr>\n",
              "    <tr>\n",
              "      <th>contact</th>\n",
              "      <td>-0.006279</td>\n",
              "      <td>-0.031866</td>\n",
              "      <td>-0.048456</td>\n",
              "      <td>0.020464</td>\n",
              "      <td>-0.019834</td>\n",
              "      <td>-0.069869</td>\n",
              "      <td>-0.020904</td>\n",
              "      <td>1.000000</td>\n",
              "      <td>0.047045</td>\n",
              "      <td>0.024590</td>\n",
              "      <td>0.166384</td>\n",
              "      <td>-0.035805</td>\n",
              "      <td>0.030317</td>\n",
              "      <td>-0.012330</td>\n",
              "      <td>-0.036360</td>\n",
              "      <td>0.063199</td>\n",
              "      <td>0.077235</td>\n",
              "      <td>0.043830</td>\n",
              "      <td>-0.014321</td>\n",
              "    </tr>\n",
              "    <tr>\n",
              "      <th>month</th>\n",
              "      <td>-0.002498</td>\n",
              "      <td>-0.024130</td>\n",
              "      <td>-0.010829</td>\n",
              "      <td>0.010187</td>\n",
              "      <td>0.020123</td>\n",
              "      <td>0.014452</td>\n",
              "      <td>0.000524</td>\n",
              "      <td>0.047045</td>\n",
              "      <td>1.000000</td>\n",
              "      <td>-0.019188</td>\n",
              "      <td>0.013909</td>\n",
              "      <td>0.019820</td>\n",
              "      <td>0.015723</td>\n",
              "      <td>-0.024264</td>\n",
              "      <td>-0.036446</td>\n",
              "      <td>0.023224</td>\n",
              "      <td>0.022529</td>\n",
              "      <td>0.013977</td>\n",
              "      <td>-0.009586</td>\n",
              "    </tr>\n",
              "    <tr>\n",
              "      <th>poutcome</th>\n",
              "      <td>0.066642</td>\n",
              "      <td>0.045015</td>\n",
              "      <td>0.082852</td>\n",
              "      <td>-0.071356</td>\n",
              "      <td>-0.025566</td>\n",
              "      <td>-0.284439</td>\n",
              "      <td>-0.103154</td>\n",
              "      <td>0.024590</td>\n",
              "      <td>-0.019188</td>\n",
              "      <td>1.000000</td>\n",
              "      <td>0.051987</td>\n",
              "      <td>0.013079</td>\n",
              "      <td>0.051464</td>\n",
              "      <td>0.017125</td>\n",
              "      <td>0.108473</td>\n",
              "      <td>-0.000502</td>\n",
              "      <td>-0.235119</td>\n",
              "      <td>0.041607</td>\n",
              "      <td>0.420519</td>\n",
              "    </tr>\n",
              "    <tr>\n",
              "      <th>age</th>\n",
              "      <td>-0.020606</td>\n",
              "      <td>-0.414972</td>\n",
              "      <td>-0.119516</td>\n",
              "      <td>0.140750</td>\n",
              "      <td>-0.027825</td>\n",
              "      <td>-0.179386</td>\n",
              "      <td>-0.008330</td>\n",
              "      <td>0.166384</td>\n",
              "      <td>0.013909</td>\n",
              "      <td>0.051987</td>\n",
              "      <td>1.000000</td>\n",
              "      <td>0.058322</td>\n",
              "      <td>0.115480</td>\n",
              "      <td>0.018399</td>\n",
              "      <td>0.060519</td>\n",
              "      <td>0.003842</td>\n",
              "      <td>-0.107863</td>\n",
              "      <td>0.002280</td>\n",
              "      <td>0.072577</td>\n",
              "    </tr>\n",
              "    <tr>\n",
              "      <th>salary</th>\n",
              "      <td>0.115271</td>\n",
              "      <td>-0.042212</td>\n",
              "      <td>0.423157</td>\n",
              "      <td>-0.228338</td>\n",
              "      <td>0.000361</td>\n",
              "      <td>-0.035905</td>\n",
              "      <td>0.013788</td>\n",
              "      <td>-0.035805</td>\n",
              "      <td>0.019820</td>\n",
              "      <td>0.013079</td>\n",
              "      <td>0.058322</td>\n",
              "      <td>1.000000</td>\n",
              "      <td>0.066079</td>\n",
              "      <td>0.002379</td>\n",
              "      <td>0.005734</td>\n",
              "      <td>-0.018559</td>\n",
              "      <td>-0.106134</td>\n",
              "      <td>0.028427</td>\n",
              "      <td>0.036774</td>\n",
              "    </tr>\n",
              "    <tr>\n",
              "      <th>balance</th>\n",
              "      <td>0.041975</td>\n",
              "      <td>-0.019767</td>\n",
              "      <td>0.074166</td>\n",
              "      <td>-0.052007</td>\n",
              "      <td>-0.045010</td>\n",
              "      <td>-0.109163</td>\n",
              "      <td>-0.085004</td>\n",
              "      <td>0.030317</td>\n",
              "      <td>0.015723</td>\n",
              "      <td>0.051464</td>\n",
              "      <td>0.115480</td>\n",
              "      <td>0.066079</td>\n",
              "      <td>1.000000</td>\n",
              "      <td>0.051732</td>\n",
              "      <td>0.040998</td>\n",
              "      <td>-0.008150</td>\n",
              "      <td>-0.108122</td>\n",
              "      <td>0.001570</td>\n",
              "      <td>0.076995</td>\n",
              "    </tr>\n",
              "    <tr>\n",
              "      <th>day</th>\n",
              "      <td>0.013841</td>\n",
              "      <td>0.016797</td>\n",
              "      <td>0.023542</td>\n",
              "      <td>-0.026179</td>\n",
              "      <td>-0.001013</td>\n",
              "      <td>-0.066740</td>\n",
              "      <td>0.007550</td>\n",
              "      <td>-0.012330</td>\n",
              "      <td>-0.024264</td>\n",
              "      <td>0.017125</td>\n",
              "      <td>0.018399</td>\n",
              "      <td>0.002379</td>\n",
              "      <td>0.051732</td>\n",
              "      <td>1.000000</td>\n",
              "      <td>-0.012687</td>\n",
              "      <td>-0.029295</td>\n",
              "      <td>-0.090095</td>\n",
              "      <td>-0.016801</td>\n",
              "      <td>0.029952</td>\n",
              "    </tr>\n",
              "    <tr>\n",
              "      <th>duration</th>\n",
              "      <td>0.024449</td>\n",
              "      <td>-0.009075</td>\n",
              "      <td>-0.001142</td>\n",
              "      <td>-0.014729</td>\n",
              "      <td>-0.002635</td>\n",
              "      <td>-0.072070</td>\n",
              "      <td>-0.033874</td>\n",
              "      <td>-0.036360</td>\n",
              "      <td>-0.036446</td>\n",
              "      <td>0.108473</td>\n",
              "      <td>0.060519</td>\n",
              "      <td>0.005734</td>\n",
              "      <td>0.040998</td>\n",
              "      <td>-0.012687</td>\n",
              "      <td>1.000000</td>\n",
              "      <td>-0.088394</td>\n",
              "      <td>-0.024407</td>\n",
              "      <td>-0.002150</td>\n",
              "      <td>0.342610</td>\n",
              "    </tr>\n",
              "    <tr>\n",
              "      <th>campaign</th>\n",
              "      <td>-0.008764</td>\n",
              "      <td>-0.008338</td>\n",
              "      <td>-0.024343</td>\n",
              "      <td>0.017948</td>\n",
              "      <td>-0.002064</td>\n",
              "      <td>0.063071</td>\n",
              "      <td>0.007444</td>\n",
              "      <td>0.063199</td>\n",
              "      <td>0.023224</td>\n",
              "      <td>-0.000502</td>\n",
              "      <td>0.003842</td>\n",
              "      <td>-0.018559</td>\n",
              "      <td>-0.008150</td>\n",
              "      <td>-0.029295</td>\n",
              "      <td>-0.088394</td>\n",
              "      <td>1.000000</td>\n",
              "      <td>0.050534</td>\n",
              "      <td>0.135523</td>\n",
              "      <td>-0.094110</td>\n",
              "    </tr>\n",
              "    <tr>\n",
              "      <th>pdays</th>\n",
              "      <td>-0.110505</td>\n",
              "      <td>-0.011861</td>\n",
              "      <td>-0.140155</td>\n",
              "      <td>0.075638</td>\n",
              "      <td>0.033760</td>\n",
              "      <td>0.335124</td>\n",
              "      <td>0.022454</td>\n",
              "      <td>0.077235</td>\n",
              "      <td>0.022529</td>\n",
              "      <td>-0.235119</td>\n",
              "      <td>-0.107863</td>\n",
              "      <td>-0.106134</td>\n",
              "      <td>-0.108122</td>\n",
              "      <td>-0.090095</td>\n",
              "      <td>-0.024407</td>\n",
              "      <td>0.050534</td>\n",
              "      <td>1.000000</td>\n",
              "      <td>-0.021885</td>\n",
              "      <td>-0.152206</td>\n",
              "    </tr>\n",
              "    <tr>\n",
              "      <th>previous</th>\n",
              "      <td>-0.000266</td>\n",
              "      <td>0.004536</td>\n",
              "      <td>0.000115</td>\n",
              "      <td>-0.001205</td>\n",
              "      <td>0.012149</td>\n",
              "      <td>0.008934</td>\n",
              "      <td>0.016549</td>\n",
              "      <td>0.043830</td>\n",
              "      <td>0.013977</td>\n",
              "      <td>0.041607</td>\n",
              "      <td>0.002280</td>\n",
              "      <td>0.028427</td>\n",
              "      <td>0.001570</td>\n",
              "      <td>-0.016801</td>\n",
              "      <td>-0.002150</td>\n",
              "      <td>0.135523</td>\n",
              "      <td>-0.021885</td>\n",
              "      <td>1.000000</td>\n",
              "      <td>0.008622</td>\n",
              "    </tr>\n",
              "    <tr>\n",
              "      <th>response</th>\n",
              "      <td>0.081239</td>\n",
              "      <td>0.049234</td>\n",
              "      <td>0.108098</td>\n",
              "      <td>-0.091216</td>\n",
              "      <td>-0.028299</td>\n",
              "      <td>-0.317501</td>\n",
              "      <td>-0.115805</td>\n",
              "      <td>-0.014321</td>\n",
              "      <td>-0.009586</td>\n",
              "      <td>0.420519</td>\n",
              "      <td>0.072577</td>\n",
              "      <td>0.036774</td>\n",
              "      <td>0.076995</td>\n",
              "      <td>0.029952</td>\n",
              "      <td>0.342610</td>\n",
              "      <td>-0.094110</td>\n",
              "      <td>-0.152206</td>\n",
              "      <td>0.008622</td>\n",
              "      <td>1.000000</td>\n",
              "    </tr>\n",
              "  </tbody>\n",
              "</table>\n",
              "</div>"
            ],
            "text/plain": [
              "                job   marital  education  ...     pdays  previous  response\n",
              "job        1.000000  0.072746   0.159280  ... -0.110505 -0.000266  0.081239\n",
              "marital    0.072746  1.000000   0.121688  ... -0.011861  0.004536  0.049234\n",
              "education  0.159280  0.121688   1.000000  ... -0.140155  0.000115  0.108098\n",
              "targeted  -0.091197 -0.255247  -0.632513  ...  0.075638 -0.001205 -0.091216\n",
              "default   -0.021012 -0.005632  -0.013682  ...  0.033760  0.012149 -0.028299\n",
              "housing   -0.132378 -0.056963  -0.129804  ...  0.335124  0.008934 -0.317501\n",
              "loan      -0.033500 -0.055435  -0.047718  ...  0.022454  0.016549 -0.115805\n",
              "contact   -0.006279 -0.031866  -0.048456  ...  0.077235  0.043830 -0.014321\n",
              "month     -0.002498 -0.024130  -0.010829  ...  0.022529  0.013977 -0.009586\n",
              "poutcome   0.066642  0.045015   0.082852  ... -0.235119  0.041607  0.420519\n",
              "age       -0.020606 -0.414972  -0.119516  ... -0.107863  0.002280  0.072577\n",
              "salary     0.115271 -0.042212   0.423157  ... -0.106134  0.028427  0.036774\n",
              "balance    0.041975 -0.019767   0.074166  ... -0.108122  0.001570  0.076995\n",
              "day        0.013841  0.016797   0.023542  ... -0.090095 -0.016801  0.029952\n",
              "duration   0.024449 -0.009075  -0.001142  ... -0.024407 -0.002150  0.342610\n",
              "campaign  -0.008764 -0.008338  -0.024343  ...  0.050534  0.135523 -0.094110\n",
              "pdays     -0.110505 -0.011861  -0.140155  ...  1.000000 -0.021885 -0.152206\n",
              "previous  -0.000266  0.004536   0.000115  ... -0.021885  1.000000  0.008622\n",
              "response   0.081239  0.049234   0.108098  ... -0.152206  0.008622  1.000000\n",
              "\n",
              "[19 rows x 19 columns]"
            ]
          },
          "metadata": {
            "tags": []
          },
          "execution_count": 32
        }
      ]
    },
    {
      "cell_type": "markdown",
      "metadata": {
        "id": "qZNFcQf6bvRb"
      },
      "source": [
        "Model Building\n"
      ]
    },
    {
      "cell_type": "markdown",
      "metadata": {
        "id": "vaxHvDehbyYP"
      },
      "source": [
        "Logistic Regression Model"
      ]
    },
    {
      "cell_type": "code",
      "metadata": {
        "id": "E0GKYeSKbYEI"
      },
      "source": [
        "from sklearn.model_selection import train_test_split\n",
        "from sklearn.model_selection import cross_val_score\n",
        "from sklearn.linear_model import LogisticRegression\n",
        "from sklearn.metrics import classification_report\n",
        "from sklearn.metrics import confusion_matrix\n",
        "from sklearn.metrics import f1_score\n",
        "np.random.seed(42)"
      ],
      "execution_count": null,
      "outputs": []
    },
    {
      "cell_type": "code",
      "metadata": {
        "id": "3SHYNXRbbYBL"
      },
      "source": [
        "import warnings\n",
        "warnings.filterwarnings(\"ignore\")\n"
      ],
      "execution_count": null,
      "outputs": []
    },
    {
      "cell_type": "code",
      "metadata": {
        "colab": {
          "base_uri": "https://localhost:8080/",
          "height": 223
        },
        "id": "17L9tL4PbX-m",
        "outputId": "2e44fab3-6a94-4e71-910c-4f5aa5b115e5"
      },
      "source": [
        "X = bm3.drop(\"response\", axis=1)\n",
        "X.head()"
      ],
      "execution_count": null,
      "outputs": [
        {
          "output_type": "execute_result",
          "data": {
            "text/html": [
              "<div>\n",
              "<style scoped>\n",
              "    .dataframe tbody tr th:only-of-type {\n",
              "        vertical-align: middle;\n",
              "    }\n",
              "\n",
              "    .dataframe tbody tr th {\n",
              "        vertical-align: top;\n",
              "    }\n",
              "\n",
              "    .dataframe thead th {\n",
              "        text-align: right;\n",
              "    }\n",
              "</style>\n",
              "<table border=\"1\" class=\"dataframe\">\n",
              "  <thead>\n",
              "    <tr style=\"text-align: right;\">\n",
              "      <th></th>\n",
              "      <th>job</th>\n",
              "      <th>marital</th>\n",
              "      <th>education</th>\n",
              "      <th>targeted</th>\n",
              "      <th>default</th>\n",
              "      <th>housing</th>\n",
              "      <th>loan</th>\n",
              "      <th>contact</th>\n",
              "      <th>month</th>\n",
              "      <th>poutcome</th>\n",
              "      <th>age</th>\n",
              "      <th>salary</th>\n",
              "      <th>balance</th>\n",
              "      <th>day</th>\n",
              "      <th>duration</th>\n",
              "      <th>campaign</th>\n",
              "      <th>pdays</th>\n",
              "      <th>previous</th>\n",
              "    </tr>\n",
              "  </thead>\n",
              "  <tbody>\n",
              "    <tr>\n",
              "      <th>24060</th>\n",
              "      <td>0</td>\n",
              "      <td>1</td>\n",
              "      <td>2</td>\n",
              "      <td>1</td>\n",
              "      <td>0</td>\n",
              "      <td>0</td>\n",
              "      <td>0</td>\n",
              "      <td>1</td>\n",
              "      <td>10</td>\n",
              "      <td>0</td>\n",
              "      <td>33</td>\n",
              "      <td>50000</td>\n",
              "      <td>882</td>\n",
              "      <td>21</td>\n",
              "      <td>39</td>\n",
              "      <td>1</td>\n",
              "      <td>151</td>\n",
              "      <td>3</td>\n",
              "    </tr>\n",
              "    <tr>\n",
              "      <th>24062</th>\n",
              "      <td>0</td>\n",
              "      <td>2</td>\n",
              "      <td>1</td>\n",
              "      <td>1</td>\n",
              "      <td>0</td>\n",
              "      <td>1</td>\n",
              "      <td>1</td>\n",
              "      <td>1</td>\n",
              "      <td>10</td>\n",
              "      <td>1</td>\n",
              "      <td>42</td>\n",
              "      <td>50000</td>\n",
              "      <td>-247</td>\n",
              "      <td>21</td>\n",
              "      <td>519</td>\n",
              "      <td>1</td>\n",
              "      <td>166</td>\n",
              "      <td>1</td>\n",
              "    </tr>\n",
              "    <tr>\n",
              "      <th>24064</th>\n",
              "      <td>7</td>\n",
              "      <td>1</td>\n",
              "      <td>1</td>\n",
              "      <td>1</td>\n",
              "      <td>0</td>\n",
              "      <td>1</td>\n",
              "      <td>0</td>\n",
              "      <td>1</td>\n",
              "      <td>10</td>\n",
              "      <td>0</td>\n",
              "      <td>33</td>\n",
              "      <td>70000</td>\n",
              "      <td>3444</td>\n",
              "      <td>21</td>\n",
              "      <td>144</td>\n",
              "      <td>1</td>\n",
              "      <td>91</td>\n",
              "      <td>4</td>\n",
              "    </tr>\n",
              "    <tr>\n",
              "      <th>24072</th>\n",
              "      <td>4</td>\n",
              "      <td>1</td>\n",
              "      <td>2</td>\n",
              "      <td>1</td>\n",
              "      <td>0</td>\n",
              "      <td>1</td>\n",
              "      <td>0</td>\n",
              "      <td>1</td>\n",
              "      <td>10</td>\n",
              "      <td>1</td>\n",
              "      <td>36</td>\n",
              "      <td>100000</td>\n",
              "      <td>2415</td>\n",
              "      <td>22</td>\n",
              "      <td>73</td>\n",
              "      <td>1</td>\n",
              "      <td>86</td>\n",
              "      <td>4</td>\n",
              "    </tr>\n",
              "    <tr>\n",
              "      <th>24077</th>\n",
              "      <td>4</td>\n",
              "      <td>1</td>\n",
              "      <td>2</td>\n",
              "      <td>1</td>\n",
              "      <td>0</td>\n",
              "      <td>1</td>\n",
              "      <td>0</td>\n",
              "      <td>1</td>\n",
              "      <td>10</td>\n",
              "      <td>0</td>\n",
              "      <td>36</td>\n",
              "      <td>100000</td>\n",
              "      <td>0</td>\n",
              "      <td>23</td>\n",
              "      <td>140</td>\n",
              "      <td>1</td>\n",
              "      <td>143</td>\n",
              "      <td>3</td>\n",
              "    </tr>\n",
              "  </tbody>\n",
              "</table>\n",
              "</div>"
            ],
            "text/plain": [
              "       job  marital  education  targeted  ...  duration  campaign  pdays  previous\n",
              "24060    0        1          2         1  ...        39         1    151         3\n",
              "24062    0        2          1         1  ...       519         1    166         1\n",
              "24064    7        1          1         1  ...       144         1     91         4\n",
              "24072    4        1          2         1  ...        73         1     86         4\n",
              "24077    4        1          2         1  ...       140         1    143         3\n",
              "\n",
              "[5 rows x 18 columns]"
            ]
          },
          "metadata": {
            "tags": []
          },
          "execution_count": 35
        }
      ]
    },
    {
      "cell_type": "code",
      "metadata": {
        "colab": {
          "base_uri": "https://localhost:8080/",
          "height": 203
        },
        "id": "-CErwtMMbX8m",
        "outputId": "68b2a77c-2c49-4195-dcc4-3eb1f4b56eb1"
      },
      "source": [
        "y= bm3[['response']]\n",
        "y.head()"
      ],
      "execution_count": null,
      "outputs": [
        {
          "output_type": "execute_result",
          "data": {
            "text/html": [
              "<div>\n",
              "<style scoped>\n",
              "    .dataframe tbody tr th:only-of-type {\n",
              "        vertical-align: middle;\n",
              "    }\n",
              "\n",
              "    .dataframe tbody tr th {\n",
              "        vertical-align: top;\n",
              "    }\n",
              "\n",
              "    .dataframe thead th {\n",
              "        text-align: right;\n",
              "    }\n",
              "</style>\n",
              "<table border=\"1\" class=\"dataframe\">\n",
              "  <thead>\n",
              "    <tr style=\"text-align: right;\">\n",
              "      <th></th>\n",
              "      <th>response</th>\n",
              "    </tr>\n",
              "  </thead>\n",
              "  <tbody>\n",
              "    <tr>\n",
              "      <th>24060</th>\n",
              "      <td>0</td>\n",
              "    </tr>\n",
              "    <tr>\n",
              "      <th>24062</th>\n",
              "      <td>1</td>\n",
              "    </tr>\n",
              "    <tr>\n",
              "      <th>24064</th>\n",
              "      <td>1</td>\n",
              "    </tr>\n",
              "    <tr>\n",
              "      <th>24072</th>\n",
              "      <td>0</td>\n",
              "    </tr>\n",
              "    <tr>\n",
              "      <th>24077</th>\n",
              "      <td>1</td>\n",
              "    </tr>\n",
              "  </tbody>\n",
              "</table>\n",
              "</div>"
            ],
            "text/plain": [
              "       response\n",
              "24060         0\n",
              "24062         1\n",
              "24064         1\n",
              "24072         0\n",
              "24077         1"
            ]
          },
          "metadata": {
            "tags": []
          },
          "execution_count": 36
        }
      ]
    },
    {
      "cell_type": "code",
      "metadata": {
        "id": "SZw6lnWzbX43"
      },
      "source": [
        "X_train,X_test,y_train,y_test = train_test_split(X,y,test_size = 0.2,random_state=42)\n"
      ],
      "execution_count": null,
      "outputs": []
    },
    {
      "cell_type": "code",
      "metadata": {
        "id": "MK_WkotTbXze"
      },
      "source": [
        "lr = LogisticRegression()\n"
      ],
      "execution_count": null,
      "outputs": []
    },
    {
      "cell_type": "code",
      "metadata": {
        "colab": {
          "base_uri": "https://localhost:8080/"
        },
        "id": "wXvmDVQMbXwA",
        "outputId": "ecd3ad41-8b62-46d7-c1c9-a6d7bc681f0f"
      },
      "source": [
        "lr.fit(X_train,y_train)"
      ],
      "execution_count": null,
      "outputs": [
        {
          "output_type": "execute_result",
          "data": {
            "text/plain": [
              "LogisticRegression(C=1.0, class_weight=None, dual=False, fit_intercept=True,\n",
              "                   intercept_scaling=1, l1_ratio=None, max_iter=100,\n",
              "                   multi_class='auto', n_jobs=None, penalty='l2',\n",
              "                   random_state=None, solver='lbfgs', tol=0.0001, verbose=0,\n",
              "                   warm_start=False)"
            ]
          },
          "metadata": {
            "tags": []
          },
          "execution_count": 40
        }
      ]
    },
    {
      "cell_type": "code",
      "metadata": {
        "colab": {
          "base_uri": "https://localhost:8080/"
        },
        "id": "MHpgCZfFcQU1",
        "outputId": "6b15a613-6217-445b-fb42-629280206045"
      },
      "source": [
        "cv_score= cross_val_score(lr,X_train,y_train, cv=5)\n",
        "np.mean(cv_score)"
      ],
      "execution_count": null,
      "outputs": [
        {
          "output_type": "execute_result",
          "data": {
            "text/plain": [
              "0.777895533686601"
            ]
          },
          "metadata": {
            "tags": []
          },
          "execution_count": 41
        }
      ]
    },
    {
      "cell_type": "code",
      "metadata": {
        "id": "ZbXu44QlcQSB"
      },
      "source": [
        "y_pred = lr.predict(X_test)\n"
      ],
      "execution_count": null,
      "outputs": []
    },
    {
      "cell_type": "code",
      "metadata": {
        "colab": {
          "base_uri": "https://localhost:8080/"
        },
        "id": "JDGR8N69cQPk",
        "outputId": "a3124439-1362-44ac-e0a7-e85e446d8161"
      },
      "source": [
        "print(classification_report(y_test, y_pred))"
      ],
      "execution_count": null,
      "outputs": [
        {
          "output_type": "stream",
          "text": [
            "              precision    recall  f1-score   support\n",
            "\n",
            "           0       0.80      0.96      0.87      1279\n",
            "           1       0.57      0.20      0.29       373\n",
            "\n",
            "    accuracy                           0.79      1652\n",
            "   macro avg       0.69      0.58      0.58      1652\n",
            "weighted avg       0.75      0.79      0.74      1652\n",
            "\n"
          ],
          "name": "stdout"
        }
      ]
    },
    {
      "cell_type": "code",
      "metadata": {
        "colab": {
          "base_uri": "https://localhost:8080/"
        },
        "id": "Ca8AIeAFcQM-",
        "outputId": "b60a96ad-b0d3-4891-a217-b0bec5d4eab4"
      },
      "source": [
        "confusion_matrix(y_pred,y_test)"
      ],
      "execution_count": null,
      "outputs": [
        {
          "output_type": "execute_result",
          "data": {
            "text/plain": [
              "array([[1224,  299],\n",
              "       [  55,   74]])"
            ]
          },
          "metadata": {
            "tags": []
          },
          "execution_count": 44
        }
      ]
    },
    {
      "cell_type": "code",
      "metadata": {
        "colab": {
          "base_uri": "https://localhost:8080/"
        },
        "id": "x9-8RPe0cQLI",
        "outputId": "5bb9f625-3a66-403b-a158-b7504f3120e8"
      },
      "source": [
        "f1_score(y_pred,y_test)"
      ],
      "execution_count": null,
      "outputs": [
        {
          "output_type": "execute_result",
          "data": {
            "text/plain": [
              "0.29482071713147406"
            ]
          },
          "metadata": {
            "tags": []
          },
          "execution_count": 45
        }
      ]
    },
    {
      "cell_type": "markdown",
      "metadata": {
        "id": "-SgQ4o4Ycf18"
      },
      "source": [
        "RFE"
      ]
    },
    {
      "cell_type": "code",
      "metadata": {
        "colab": {
          "base_uri": "https://localhost:8080/"
        },
        "id": "KYq5d8G9cQHt",
        "outputId": "a2266c74-9252-40be-b09e-a7bb7d7fd242"
      },
      "source": [
        "from sklearn.feature_selection import RFE\n",
        "from sklearn.preprocessing import MinMaxScaler\n",
        "scaler = MinMaxScaler()\n",
        "rfe = RFE(lr, 5)\n",
        "rfe.fit(X_train,y_train)"
      ],
      "execution_count": null,
      "outputs": [
        {
          "output_type": "execute_result",
          "data": {
            "text/plain": [
              "RFE(estimator=LogisticRegression(C=1.0, class_weight=None, dual=False,\n",
              "                                 fit_intercept=True, intercept_scaling=1,\n",
              "                                 l1_ratio=None, max_iter=100,\n",
              "                                 multi_class='auto', n_jobs=None, penalty='l2',\n",
              "                                 random_state=None, solver='lbfgs', tol=0.0001,\n",
              "                                 verbose=0, warm_start=False),\n",
              "    n_features_to_select=5, step=1, verbose=0)"
            ]
          },
          "metadata": {
            "tags": []
          },
          "execution_count": 46
        }
      ]
    },
    {
      "cell_type": "code",
      "metadata": {
        "colab": {
          "base_uri": "https://localhost:8080/"
        },
        "id": "zI2h-M1kcQE5",
        "outputId": "4471949d-d67d-4558-ecb9-932dfe4e7ad0"
      },
      "source": [
        "rfe.support_"
      ],
      "execution_count": null,
      "outputs": [
        {
          "output_type": "execute_result",
          "data": {
            "text/plain": [
              "array([False, False, False, False,  True,  True,  True,  True, False,\n",
              "        True, False, False, False, False, False, False, False, False])"
            ]
          },
          "metadata": {
            "tags": []
          },
          "execution_count": 47
        }
      ]
    },
    {
      "cell_type": "code",
      "metadata": {
        "colab": {
          "base_uri": "https://localhost:8080/"
        },
        "id": "FPmLj8kdcQCn",
        "outputId": "1dfcc8b7-2f66-43fd-d436-9f0584520140"
      },
      "source": [
        "X_train.columns[rfe.support_]"
      ],
      "execution_count": null,
      "outputs": [
        {
          "output_type": "execute_result",
          "data": {
            "text/plain": [
              "Index(['default', 'housing', 'loan', 'contact', 'poutcome'], dtype='object')"
            ]
          },
          "metadata": {
            "tags": []
          },
          "execution_count": 48
        }
      ]
    },
    {
      "cell_type": "code",
      "metadata": {
        "id": "k9Xh9FALcP9i"
      },
      "source": [
        "cols = X_train.columns[rfe.support_]"
      ],
      "execution_count": null,
      "outputs": []
    },
    {
      "cell_type": "code",
      "metadata": {
        "colab": {
          "base_uri": "https://localhost:8080/"
        },
        "id": "HosmXtYccP7q",
        "outputId": "03550a7e-c913-434f-b81f-c0c8d92c2584"
      },
      "source": [
        "lr.fit(X_train[cols],y_train)"
      ],
      "execution_count": null,
      "outputs": [
        {
          "output_type": "execute_result",
          "data": {
            "text/plain": [
              "LogisticRegression(C=1.0, class_weight=None, dual=False, fit_intercept=True,\n",
              "                   intercept_scaling=1, l1_ratio=None, max_iter=100,\n",
              "                   multi_class='auto', n_jobs=None, penalty='l2',\n",
              "                   random_state=None, solver='lbfgs', tol=0.0001, verbose=0,\n",
              "                   warm_start=False)"
            ]
          },
          "metadata": {
            "tags": []
          },
          "execution_count": 50
        }
      ]
    },
    {
      "cell_type": "code",
      "metadata": {
        "id": "tMhr1QnCcP4I"
      },
      "source": [
        "y_pred2 = lr.predict(X_test[cols])"
      ],
      "execution_count": null,
      "outputs": []
    },
    {
      "cell_type": "code",
      "metadata": {
        "colab": {
          "base_uri": "https://localhost:8080/"
        },
        "id": "BIhXxAQKcP1I",
        "outputId": "1719c776-1ec2-4cbd-f07a-c40710c257f5"
      },
      "source": [
        "f1_score(y_pred2,y_test)"
      ],
      "execution_count": null,
      "outputs": [
        {
          "output_type": "execute_result",
          "data": {
            "text/plain": [
              "0.5043478260869565"
            ]
          },
          "metadata": {
            "tags": []
          },
          "execution_count": 52
        }
      ]
    },
    {
      "cell_type": "code",
      "metadata": {
        "colab": {
          "base_uri": "https://localhost:8080/"
        },
        "id": "sPNex2WJdsyw",
        "outputId": "528ef8b3-5848-4ec9-959f-4cb147172815"
      },
      "source": [
        "confusion_matrix(y_pred2,y_test)"
      ],
      "execution_count": null,
      "outputs": [
        {
          "output_type": "execute_result",
          "data": {
            "text/plain": [
              "array([[1222,  228],\n",
              "       [  57,  145]])"
            ]
          },
          "metadata": {
            "tags": []
          },
          "execution_count": 53
        }
      ]
    },
    {
      "cell_type": "markdown",
      "metadata": {
        "id": "VwdYac1Edy9E"
      },
      "source": [
        "use statsmodel"
      ]
    },
    {
      "cell_type": "code",
      "metadata": {
        "id": "fbIUWCjKdsvv"
      },
      "source": [
        "import statsmodels.api as sm"
      ],
      "execution_count": null,
      "outputs": []
    },
    {
      "cell_type": "code",
      "metadata": {
        "colab": {
          "base_uri": "https://localhost:8080/",
          "height": 223
        },
        "id": "K1DdSzUqdstJ",
        "outputId": "29b70a07-289b-4667-abe9-30e60c9a5b09"
      },
      "source": [
        "X_train.head()"
      ],
      "execution_count": null,
      "outputs": [
        {
          "output_type": "execute_result",
          "data": {
            "text/html": [
              "<div>\n",
              "<style scoped>\n",
              "    .dataframe tbody tr th:only-of-type {\n",
              "        vertical-align: middle;\n",
              "    }\n",
              "\n",
              "    .dataframe tbody tr th {\n",
              "        vertical-align: top;\n",
              "    }\n",
              "\n",
              "    .dataframe thead th {\n",
              "        text-align: right;\n",
              "    }\n",
              "</style>\n",
              "<table border=\"1\" class=\"dataframe\">\n",
              "  <thead>\n",
              "    <tr style=\"text-align: right;\">\n",
              "      <th></th>\n",
              "      <th>job</th>\n",
              "      <th>marital</th>\n",
              "      <th>education</th>\n",
              "      <th>targeted</th>\n",
              "      <th>default</th>\n",
              "      <th>housing</th>\n",
              "      <th>loan</th>\n",
              "      <th>contact</th>\n",
              "      <th>month</th>\n",
              "      <th>poutcome</th>\n",
              "      <th>age</th>\n",
              "      <th>salary</th>\n",
              "      <th>balance</th>\n",
              "      <th>day</th>\n",
              "      <th>duration</th>\n",
              "      <th>campaign</th>\n",
              "      <th>pdays</th>\n",
              "      <th>previous</th>\n",
              "    </tr>\n",
              "  </thead>\n",
              "  <tbody>\n",
              "    <tr>\n",
              "      <th>40829</th>\n",
              "      <td>0</td>\n",
              "      <td>2</td>\n",
              "      <td>1</td>\n",
              "      <td>1</td>\n",
              "      <td>0</td>\n",
              "      <td>1</td>\n",
              "      <td>0</td>\n",
              "      <td>0</td>\n",
              "      <td>1</td>\n",
              "      <td>2</td>\n",
              "      <td>40</td>\n",
              "      <td>50000</td>\n",
              "      <td>100</td>\n",
              "      <td>11</td>\n",
              "      <td>221</td>\n",
              "      <td>1</td>\n",
              "      <td>461</td>\n",
              "      <td>1</td>\n",
              "    </tr>\n",
              "    <tr>\n",
              "      <th>29715</th>\n",
              "      <td>9</td>\n",
              "      <td>1</td>\n",
              "      <td>1</td>\n",
              "      <td>1</td>\n",
              "      <td>0</td>\n",
              "      <td>0</td>\n",
              "      <td>1</td>\n",
              "      <td>0</td>\n",
              "      <td>3</td>\n",
              "      <td>0</td>\n",
              "      <td>45</td>\n",
              "      <td>60000</td>\n",
              "      <td>366</td>\n",
              "      <td>3</td>\n",
              "      <td>235</td>\n",
              "      <td>2</td>\n",
              "      <td>169</td>\n",
              "      <td>12</td>\n",
              "    </tr>\n",
              "    <tr>\n",
              "      <th>35015</th>\n",
              "      <td>9</td>\n",
              "      <td>1</td>\n",
              "      <td>1</td>\n",
              "      <td>1</td>\n",
              "      <td>0</td>\n",
              "      <td>1</td>\n",
              "      <td>0</td>\n",
              "      <td>0</td>\n",
              "      <td>8</td>\n",
              "      <td>0</td>\n",
              "      <td>32</td>\n",
              "      <td>60000</td>\n",
              "      <td>-360</td>\n",
              "      <td>6</td>\n",
              "      <td>131</td>\n",
              "      <td>2</td>\n",
              "      <td>344</td>\n",
              "      <td>2</td>\n",
              "    </tr>\n",
              "    <tr>\n",
              "      <th>41008</th>\n",
              "      <td>0</td>\n",
              "      <td>2</td>\n",
              "      <td>2</td>\n",
              "      <td>0</td>\n",
              "      <td>0</td>\n",
              "      <td>0</td>\n",
              "      <td>0</td>\n",
              "      <td>0</td>\n",
              "      <td>1</td>\n",
              "      <td>2</td>\n",
              "      <td>36</td>\n",
              "      <td>50000</td>\n",
              "      <td>994</td>\n",
              "      <td>13</td>\n",
              "      <td>185</td>\n",
              "      <td>2</td>\n",
              "      <td>105</td>\n",
              "      <td>3</td>\n",
              "    </tr>\n",
              "    <tr>\n",
              "      <th>40646</th>\n",
              "      <td>8</td>\n",
              "      <td>2</td>\n",
              "      <td>1</td>\n",
              "      <td>1</td>\n",
              "      <td>0</td>\n",
              "      <td>1</td>\n",
              "      <td>0</td>\n",
              "      <td>1</td>\n",
              "      <td>1</td>\n",
              "      <td>0</td>\n",
              "      <td>25</td>\n",
              "      <td>4000</td>\n",
              "      <td>41</td>\n",
              "      <td>5</td>\n",
              "      <td>100</td>\n",
              "      <td>2</td>\n",
              "      <td>93</td>\n",
              "      <td>2</td>\n",
              "    </tr>\n",
              "  </tbody>\n",
              "</table>\n",
              "</div>"
            ],
            "text/plain": [
              "       job  marital  education  targeted  ...  duration  campaign  pdays  previous\n",
              "40829    0        2          1         1  ...       221         1    461         1\n",
              "29715    9        1          1         1  ...       235         2    169        12\n",
              "35015    9        1          1         1  ...       131         2    344         2\n",
              "41008    0        2          2         0  ...       185         2    105         3\n",
              "40646    8        2          1         1  ...       100         2     93         2\n",
              "\n",
              "[5 rows x 18 columns]"
            ]
          },
          "metadata": {
            "tags": []
          },
          "execution_count": 55
        }
      ]
    },
    {
      "cell_type": "markdown",
      "metadata": {
        "id": "D2uSEJzsd9gF"
      },
      "source": [
        "Add intercept manually for statsmodel to work\n",
        "\n"
      ]
    },
    {
      "cell_type": "code",
      "metadata": {
        "colab": {
          "base_uri": "https://localhost:8080/",
          "height": 203
        },
        "id": "XLQ_OSVwdson",
        "outputId": "f8088600-48c2-4774-c2fb-42a45e6b6493"
      },
      "source": [
        "X_train_sm = sm.add_constant(X_train[cols])\n",
        "X_train_sm.head()"
      ],
      "execution_count": null,
      "outputs": [
        {
          "output_type": "execute_result",
          "data": {
            "text/html": [
              "<div>\n",
              "<style scoped>\n",
              "    .dataframe tbody tr th:only-of-type {\n",
              "        vertical-align: middle;\n",
              "    }\n",
              "\n",
              "    .dataframe tbody tr th {\n",
              "        vertical-align: top;\n",
              "    }\n",
              "\n",
              "    .dataframe thead th {\n",
              "        text-align: right;\n",
              "    }\n",
              "</style>\n",
              "<table border=\"1\" class=\"dataframe\">\n",
              "  <thead>\n",
              "    <tr style=\"text-align: right;\">\n",
              "      <th></th>\n",
              "      <th>const</th>\n",
              "      <th>default</th>\n",
              "      <th>housing</th>\n",
              "      <th>loan</th>\n",
              "      <th>contact</th>\n",
              "      <th>poutcome</th>\n",
              "    </tr>\n",
              "  </thead>\n",
              "  <tbody>\n",
              "    <tr>\n",
              "      <th>40829</th>\n",
              "      <td>1.0</td>\n",
              "      <td>0</td>\n",
              "      <td>1</td>\n",
              "      <td>0</td>\n",
              "      <td>0</td>\n",
              "      <td>2</td>\n",
              "    </tr>\n",
              "    <tr>\n",
              "      <th>29715</th>\n",
              "      <td>1.0</td>\n",
              "      <td>0</td>\n",
              "      <td>0</td>\n",
              "      <td>1</td>\n",
              "      <td>0</td>\n",
              "      <td>0</td>\n",
              "    </tr>\n",
              "    <tr>\n",
              "      <th>35015</th>\n",
              "      <td>1.0</td>\n",
              "      <td>0</td>\n",
              "      <td>1</td>\n",
              "      <td>0</td>\n",
              "      <td>0</td>\n",
              "      <td>0</td>\n",
              "    </tr>\n",
              "    <tr>\n",
              "      <th>41008</th>\n",
              "      <td>1.0</td>\n",
              "      <td>0</td>\n",
              "      <td>0</td>\n",
              "      <td>0</td>\n",
              "      <td>0</td>\n",
              "      <td>2</td>\n",
              "    </tr>\n",
              "    <tr>\n",
              "      <th>40646</th>\n",
              "      <td>1.0</td>\n",
              "      <td>0</td>\n",
              "      <td>1</td>\n",
              "      <td>0</td>\n",
              "      <td>1</td>\n",
              "      <td>0</td>\n",
              "    </tr>\n",
              "  </tbody>\n",
              "</table>\n",
              "</div>"
            ],
            "text/plain": [
              "       const  default  housing  loan  contact  poutcome\n",
              "40829    1.0        0        1     0        0         2\n",
              "29715    1.0        0        0     1        0         0\n",
              "35015    1.0        0        1     0        0         0\n",
              "41008    1.0        0        0     0        0         2\n",
              "40646    1.0        0        1     0        1         0"
            ]
          },
          "metadata": {
            "tags": []
          },
          "execution_count": 56
        }
      ]
    },
    {
      "cell_type": "code",
      "metadata": {
        "id": "-jlRTDfIdslw"
      },
      "source": [
        "lr1 = sm.OLS(y_train, X_train_sm).fit()"
      ],
      "execution_count": null,
      "outputs": []
    },
    {
      "cell_type": "code",
      "metadata": {
        "colab": {
          "base_uri": "https://localhost:8080/",
          "height": 514
        },
        "id": "F3h-PiWidsi-",
        "outputId": "399b4ad3-dab7-4285-93cd-83eaf854fa95"
      },
      "source": [
        "lr1.summary()"
      ],
      "execution_count": null,
      "outputs": [
        {
          "output_type": "execute_result",
          "data": {
            "text/html": [
              "<table class=\"simpletable\">\n",
              "<caption>OLS Regression Results</caption>\n",
              "<tr>\n",
              "  <th>Dep. Variable:</th>        <td>response</td>     <th>  R-squared:         </th> <td>   0.223</td>\n",
              "</tr>\n",
              "<tr>\n",
              "  <th>Model:</th>                   <td>OLS</td>       <th>  Adj. R-squared:    </th> <td>   0.222</td>\n",
              "</tr>\n",
              "<tr>\n",
              "  <th>Method:</th>             <td>Least Squares</td>  <th>  F-statistic:       </th> <td>   378.4</td>\n",
              "</tr>\n",
              "<tr>\n",
              "  <th>Date:</th>             <td>Sun, 27 Jun 2021</td> <th>  Prob (F-statistic):</th>  <td>  0.00</td> \n",
              "</tr>\n",
              "<tr>\n",
              "  <th>Time:</th>                 <td>12:36:12</td>     <th>  Log-Likelihood:    </th> <td> -2842.3</td>\n",
              "</tr>\n",
              "<tr>\n",
              "  <th>No. Observations:</th>      <td>  6605</td>      <th>  AIC:               </th> <td>   5697.</td>\n",
              "</tr>\n",
              "<tr>\n",
              "  <th>Df Residuals:</th>          <td>  6599</td>      <th>  BIC:               </th> <td>   5737.</td>\n",
              "</tr>\n",
              "<tr>\n",
              "  <th>Df Model:</th>              <td>     5</td>      <th>                     </th>     <td> </td>   \n",
              "</tr>\n",
              "<tr>\n",
              "  <th>Covariance Type:</th>      <td>nonrobust</td>    <th>                     </th>     <td> </td>   \n",
              "</tr>\n",
              "</table>\n",
              "<table class=\"simpletable\">\n",
              "<tr>\n",
              "      <td></td>        <th>coef</th>     <th>std err</th>      <th>t</th>      <th>P>|t|</th>  <th>[0.025</th>    <th>0.975]</th>  \n",
              "</tr>\n",
              "<tr>\n",
              "  <th>const</th>    <td>    0.2556</td> <td>    0.010</td> <td>   26.881</td> <td> 0.000</td> <td>    0.237</td> <td>    0.274</td>\n",
              "</tr>\n",
              "<tr>\n",
              "  <th>default</th>  <td>   -0.0629</td> <td>    0.056</td> <td>   -1.127</td> <td> 0.260</td> <td>   -0.172</td> <td>    0.047</td>\n",
              "</tr>\n",
              "<tr>\n",
              "  <th>housing</th>  <td>   -0.1904</td> <td>    0.010</td> <td>  -19.192</td> <td> 0.000</td> <td>   -0.210</td> <td>   -0.171</td>\n",
              "</tr>\n",
              "<tr>\n",
              "  <th>loan</th>     <td>   -0.0730</td> <td>    0.014</td> <td>   -5.394</td> <td> 0.000</td> <td>   -0.099</td> <td>   -0.046</td>\n",
              "</tr>\n",
              "<tr>\n",
              "  <th>contact</th>  <td>   -0.0618</td> <td>    0.014</td> <td>   -4.346</td> <td> 0.000</td> <td>   -0.090</td> <td>   -0.034</td>\n",
              "</tr>\n",
              "<tr>\n",
              "  <th>poutcome</th> <td>    0.1873</td> <td>    0.006</td> <td>   30.507</td> <td> 0.000</td> <td>    0.175</td> <td>    0.199</td>\n",
              "</tr>\n",
              "</table>\n",
              "<table class=\"simpletable\">\n",
              "<tr>\n",
              "  <th>Omnibus:</th>       <td>750.000</td> <th>  Durbin-Watson:     </th> <td>   2.039</td> \n",
              "</tr>\n",
              "<tr>\n",
              "  <th>Prob(Omnibus):</th> <td> 0.000</td>  <th>  Jarque-Bera (JB):  </th> <td>1028.279</td> \n",
              "</tr>\n",
              "<tr>\n",
              "  <th>Skew:</th>          <td> 0.954</td>  <th>  Prob(JB):          </th> <td>5.15e-224</td>\n",
              "</tr>\n",
              "<tr>\n",
              "  <th>Kurtosis:</th>      <td> 3.306</td>  <th>  Cond. No.          </th> <td>    16.9</td> \n",
              "</tr>\n",
              "</table><br/><br/>Warnings:<br/>[1] Standard Errors assume that the covariance matrix of the errors is correctly specified."
            ],
            "text/plain": [
              "<class 'statsmodels.iolib.summary.Summary'>\n",
              "\"\"\"\n",
              "                            OLS Regression Results                            \n",
              "==============================================================================\n",
              "Dep. Variable:               response   R-squared:                       0.223\n",
              "Model:                            OLS   Adj. R-squared:                  0.222\n",
              "Method:                 Least Squares   F-statistic:                     378.4\n",
              "Date:                Sun, 27 Jun 2021   Prob (F-statistic):               0.00\n",
              "Time:                        12:36:12   Log-Likelihood:                -2842.3\n",
              "No. Observations:                6605   AIC:                             5697.\n",
              "Df Residuals:                    6599   BIC:                             5737.\n",
              "Df Model:                           5                                         \n",
              "Covariance Type:            nonrobust                                         \n",
              "==============================================================================\n",
              "                 coef    std err          t      P>|t|      [0.025      0.975]\n",
              "------------------------------------------------------------------------------\n",
              "const          0.2556      0.010     26.881      0.000       0.237       0.274\n",
              "default       -0.0629      0.056     -1.127      0.260      -0.172       0.047\n",
              "housing       -0.1904      0.010    -19.192      0.000      -0.210      -0.171\n",
              "loan          -0.0730      0.014     -5.394      0.000      -0.099      -0.046\n",
              "contact       -0.0618      0.014     -4.346      0.000      -0.090      -0.034\n",
              "poutcome       0.1873      0.006     30.507      0.000       0.175       0.199\n",
              "==============================================================================\n",
              "Omnibus:                      750.000   Durbin-Watson:                   2.039\n",
              "Prob(Omnibus):                  0.000   Jarque-Bera (JB):             1028.279\n",
              "Skew:                           0.954   Prob(JB):                    5.15e-224\n",
              "Kurtosis:                       3.306   Cond. No.                         16.9\n",
              "==============================================================================\n",
              "\n",
              "Warnings:\n",
              "[1] Standard Errors assume that the covariance matrix of the errors is correctly specified.\n",
              "\"\"\""
            ]
          },
          "metadata": {
            "tags": []
          },
          "execution_count": 58
        }
      ]
    },
    {
      "cell_type": "markdown",
      "metadata": {
        "id": "0LcqkzGHeU2m"
      },
      "source": [
        "VIF"
      ]
    },
    {
      "cell_type": "code",
      "metadata": {
        "id": "7GqCphiNdsef"
      },
      "source": [
        "from statsmodels.stats.outliers_influence import variance_inflation_factor"
      ],
      "execution_count": null,
      "outputs": []
    },
    {
      "cell_type": "code",
      "metadata": {
        "colab": {
          "base_uri": "https://localhost:8080/",
          "height": 603
        },
        "id": "qjlP2BDDdsbH",
        "outputId": "2c4a25dd-5621-498a-e985-a9c01f183cff"
      },
      "source": [
        "# Create a dataframe that will contain the names of all the feature variables and their respective VIFs\n",
        "vif = pd.DataFrame()\n",
        "vif['Features'] = X_train.columns\n",
        "vif['VIF'] = [variance_inflation_factor(X_train.values, i) for i in range(X_train.shape[1])]\n",
        "vif['VIF'] = round(vif['VIF'], 2)\n",
        "vif = vif.sort_values(by = \"VIF\", ascending = False)\n",
        "vif"
      ],
      "execution_count": null,
      "outputs": [
        {
          "output_type": "execute_result",
          "data": {
            "text/html": [
              "<div>\n",
              "<style scoped>\n",
              "    .dataframe tbody tr th:only-of-type {\n",
              "        vertical-align: middle;\n",
              "    }\n",
              "\n",
              "    .dataframe tbody tr th {\n",
              "        vertical-align: top;\n",
              "    }\n",
              "\n",
              "    .dataframe thead th {\n",
              "        text-align: right;\n",
              "    }\n",
              "</style>\n",
              "<table border=\"1\" class=\"dataframe\">\n",
              "  <thead>\n",
              "    <tr style=\"text-align: right;\">\n",
              "      <th></th>\n",
              "      <th>Features</th>\n",
              "      <th>VIF</th>\n",
              "    </tr>\n",
              "  </thead>\n",
              "  <tbody>\n",
              "    <tr>\n",
              "      <th>10</th>\n",
              "      <td>age</td>\n",
              "      <td>11.79</td>\n",
              "    </tr>\n",
              "    <tr>\n",
              "      <th>2</th>\n",
              "      <td>education</td>\n",
              "      <td>6.43</td>\n",
              "    </tr>\n",
              "    <tr>\n",
              "      <th>3</th>\n",
              "      <td>targeted</td>\n",
              "      <td>6.43</td>\n",
              "    </tr>\n",
              "    <tr>\n",
              "      <th>11</th>\n",
              "      <td>salary</td>\n",
              "      <td>5.38</td>\n",
              "    </tr>\n",
              "    <tr>\n",
              "      <th>16</th>\n",
              "      <td>pdays</td>\n",
              "      <td>5.21</td>\n",
              "    </tr>\n",
              "    <tr>\n",
              "      <th>1</th>\n",
              "      <td>marital</td>\n",
              "      <td>4.35</td>\n",
              "    </tr>\n",
              "    <tr>\n",
              "      <th>13</th>\n",
              "      <td>day</td>\n",
              "      <td>4.10</td>\n",
              "    </tr>\n",
              "    <tr>\n",
              "      <th>8</th>\n",
              "      <td>month</td>\n",
              "      <td>3.60</td>\n",
              "    </tr>\n",
              "    <tr>\n",
              "      <th>5</th>\n",
              "      <td>housing</td>\n",
              "      <td>3.14</td>\n",
              "    </tr>\n",
              "    <tr>\n",
              "      <th>15</th>\n",
              "      <td>campaign</td>\n",
              "      <td>2.87</td>\n",
              "    </tr>\n",
              "    <tr>\n",
              "      <th>0</th>\n",
              "      <td>job</td>\n",
              "      <td>2.85</td>\n",
              "    </tr>\n",
              "    <tr>\n",
              "      <th>14</th>\n",
              "      <td>duration</td>\n",
              "      <td>2.26</td>\n",
              "    </tr>\n",
              "    <tr>\n",
              "      <th>17</th>\n",
              "      <td>previous</td>\n",
              "      <td>1.91</td>\n",
              "    </tr>\n",
              "    <tr>\n",
              "      <th>9</th>\n",
              "      <td>poutcome</td>\n",
              "      <td>1.76</td>\n",
              "    </tr>\n",
              "    <tr>\n",
              "      <th>12</th>\n",
              "      <td>balance</td>\n",
              "      <td>1.30</td>\n",
              "    </tr>\n",
              "    <tr>\n",
              "      <th>6</th>\n",
              "      <td>loan</td>\n",
              "      <td>1.20</td>\n",
              "    </tr>\n",
              "    <tr>\n",
              "      <th>7</th>\n",
              "      <td>contact</td>\n",
              "      <td>1.15</td>\n",
              "    </tr>\n",
              "    <tr>\n",
              "      <th>4</th>\n",
              "      <td>default</td>\n",
              "      <td>1.02</td>\n",
              "    </tr>\n",
              "  </tbody>\n",
              "</table>\n",
              "</div>"
            ],
            "text/plain": [
              "     Features    VIF\n",
              "10        age  11.79\n",
              "2   education   6.43\n",
              "3    targeted   6.43\n",
              "11     salary   5.38\n",
              "16      pdays   5.21\n",
              "1     marital   4.35\n",
              "13        day   4.10\n",
              "8       month   3.60\n",
              "5     housing   3.14\n",
              "15   campaign   2.87\n",
              "0         job   2.85\n",
              "14   duration   2.26\n",
              "17   previous   1.91\n",
              "9    poutcome   1.76\n",
              "12    balance   1.30\n",
              "6        loan   1.20\n",
              "7     contact   1.15\n",
              "4     default   1.02"
            ]
          },
          "metadata": {
            "tags": []
          },
          "execution_count": 60
        }
      ]
    },
    {
      "cell_type": "markdown",
      "metadata": {
        "id": "5w5DVoT8eet7"
      },
      "source": [
        "Housing, loan, default, poutcome are imp feature from logistic regression model perspective\n",
        "\n"
      ]
    },
    {
      "cell_type": "markdown",
      "metadata": {
        "id": "rtYxOxWDei_O"
      },
      "source": [
        "Random Forest Classifier"
      ]
    },
    {
      "cell_type": "code",
      "metadata": {
        "id": "WMj6nQ0qdsYf"
      },
      "source": [
        "from sklearn.ensemble import RandomForestClassifier"
      ],
      "execution_count": null,
      "outputs": []
    },
    {
      "cell_type": "code",
      "metadata": {
        "id": "7tHWmdRJeqli"
      },
      "source": [
        "rfc = RandomForestClassifier(max_depth=5, random_state=42,max_leaf_nodes=50)"
      ],
      "execution_count": null,
      "outputs": []
    },
    {
      "cell_type": "code",
      "metadata": {
        "colab": {
          "base_uri": "https://localhost:8080/"
        },
        "id": "HoMsu_NSeqh8",
        "outputId": "8dd529a0-14fe-43b7-d710-37bcdcd4922b"
      },
      "source": [
        "rfc.fit(X_train,y_train)"
      ],
      "execution_count": null,
      "outputs": [
        {
          "output_type": "execute_result",
          "data": {
            "text/plain": [
              "RandomForestClassifier(bootstrap=True, ccp_alpha=0.0, class_weight=None,\n",
              "                       criterion='gini', max_depth=5, max_features='auto',\n",
              "                       max_leaf_nodes=50, max_samples=None,\n",
              "                       min_impurity_decrease=0.0, min_impurity_split=None,\n",
              "                       min_samples_leaf=1, min_samples_split=2,\n",
              "                       min_weight_fraction_leaf=0.0, n_estimators=100,\n",
              "                       n_jobs=None, oob_score=False, random_state=42, verbose=0,\n",
              "                       warm_start=False)"
            ]
          },
          "metadata": {
            "tags": []
          },
          "execution_count": 65
        }
      ]
    },
    {
      "cell_type": "code",
      "metadata": {
        "colab": {
          "base_uri": "https://localhost:8080/"
        },
        "id": "TTN3XtNeeqdX",
        "outputId": "8c5ca4eb-51ae-41b6-ffda-b8dbb0a1570f"
      },
      "source": [
        "cv1_score= cross_val_score(rfc,X_train,y_train, cv=5)\n",
        "np.mean(cv1_score)"
      ],
      "execution_count": null,
      "outputs": [
        {
          "output_type": "execute_result",
          "data": {
            "text/plain": [
              "0.8392127176381529"
            ]
          },
          "metadata": {
            "tags": []
          },
          "execution_count": 66
        }
      ]
    },
    {
      "cell_type": "code",
      "metadata": {
        "id": "4c4xh1k-eqaQ"
      },
      "source": [
        "y_pred1 = rfc.predict(X_test)"
      ],
      "execution_count": null,
      "outputs": []
    },
    {
      "cell_type": "code",
      "metadata": {
        "colab": {
          "base_uri": "https://localhost:8080/"
        },
        "id": "dTdeHBuReqVb",
        "outputId": "7abd11d9-4d1b-4f33-cc0d-525a70ad4681"
      },
      "source": [
        "print(classification_report(y_test, y_pred1))"
      ],
      "execution_count": null,
      "outputs": [
        {
          "output_type": "stream",
          "text": [
            "              precision    recall  f1-score   support\n",
            "\n",
            "           0       0.86      0.97      0.91      1279\n",
            "           1       0.80      0.45      0.57       373\n",
            "\n",
            "    accuracy                           0.85      1652\n",
            "   macro avg       0.83      0.71      0.74      1652\n",
            "weighted avg       0.84      0.85      0.83      1652\n",
            "\n"
          ],
          "name": "stdout"
        }
      ]
    },
    {
      "cell_type": "code",
      "metadata": {
        "colab": {
          "base_uri": "https://localhost:8080/"
        },
        "id": "5JR5hnWmeqR7",
        "outputId": "435c755f-a10d-494a-e2e0-5cf039b8e986"
      },
      "source": [
        "f1_score(y_test,y_pred1)"
      ],
      "execution_count": null,
      "outputs": [
        {
          "output_type": "execute_result",
          "data": {
            "text/plain": [
              "0.5728987993138936"
            ]
          },
          "metadata": {
            "tags": []
          },
          "execution_count": 69
        }
      ]
    },
    {
      "cell_type": "code",
      "metadata": {
        "colab": {
          "base_uri": "https://localhost:8080/"
        },
        "id": "oLUe8BUge8Pf",
        "outputId": "0a605b2c-8fad-4438-9066-a728dbc0e0d4"
      },
      "source": [
        "confusion_matrix(y_test,y_pred1)"
      ],
      "execution_count": null,
      "outputs": [
        {
          "output_type": "execute_result",
          "data": {
            "text/plain": [
              "array([[1236,   43],\n",
              "       [ 206,  167]])"
            ]
          },
          "metadata": {
            "tags": []
          },
          "execution_count": 70
        }
      ]
    },
    {
      "cell_type": "code",
      "metadata": {
        "id": "SBorOR0Te8Ie"
      },
      "source": [
        "from sklearn.metrics import roc_auc_score"
      ],
      "execution_count": null,
      "outputs": []
    },
    {
      "cell_type": "code",
      "metadata": {
        "colab": {
          "base_uri": "https://localhost:8080/"
        },
        "id": "-7m7icf2e8F4",
        "outputId": "d2098e78-e7d3-4fb7-8b04-9f85f3e45754"
      },
      "source": [
        "roc_auc_score(y_test,y_pred1)"
      ],
      "execution_count": null,
      "outputs": [
        {
          "output_type": "execute_result",
          "data": {
            "text/plain": [
              "0.7070505819937242"
            ]
          },
          "metadata": {
            "tags": []
          },
          "execution_count": 72
        }
      ]
    },
    {
      "cell_type": "markdown",
      "metadata": {
        "id": "8EeqGVJwfOpX"
      },
      "source": [
        "RFE"
      ]
    },
    {
      "cell_type": "code",
      "metadata": {
        "colab": {
          "base_uri": "https://localhost:8080/"
        },
        "id": "JfCsZEIve8DO",
        "outputId": "3058861c-f52d-4cb3-e841-98c1e39fc652"
      },
      "source": [
        "from sklearn.feature_selection import RFE\n",
        "from sklearn.preprocessing import MinMaxScaler\n",
        "scaler = MinMaxScaler()\n",
        "rfe1 = RFE(rfc, 5)\n",
        "rfe1.fit(X_train,y_train)\n"
      ],
      "execution_count": null,
      "outputs": [
        {
          "output_type": "execute_result",
          "data": {
            "text/plain": [
              "RFE(estimator=RandomForestClassifier(bootstrap=True, ccp_alpha=0.0,\n",
              "                                     class_weight=None, criterion='gini',\n",
              "                                     max_depth=5, max_features='auto',\n",
              "                                     max_leaf_nodes=50, max_samples=None,\n",
              "                                     min_impurity_decrease=0.0,\n",
              "                                     min_impurity_split=None,\n",
              "                                     min_samples_leaf=1, min_samples_split=2,\n",
              "                                     min_weight_fraction_leaf=0.0,\n",
              "                                     n_estimators=100, n_jobs=None,\n",
              "                                     oob_score=False, random_state=42,\n",
              "                                     verbose=0, warm_start=False),\n",
              "    n_features_to_select=5, step=1, verbose=0)"
            ]
          },
          "metadata": {
            "tags": []
          },
          "execution_count": 73
        }
      ]
    },
    {
      "cell_type": "code",
      "metadata": {
        "colab": {
          "base_uri": "https://localhost:8080/"
        },
        "id": "IFmVINope8Az",
        "outputId": "c5c9dafb-13d6-4ebb-e331-d531e58400e6"
      },
      "source": [
        "rfe1.support_"
      ],
      "execution_count": null,
      "outputs": [
        {
          "output_type": "execute_result",
          "data": {
            "text/plain": [
              "array([False, False, False, False, False,  True, False, False,  True,\n",
              "        True, False, False, False, False,  True, False,  True, False])"
            ]
          },
          "metadata": {
            "tags": []
          },
          "execution_count": 74
        }
      ]
    },
    {
      "cell_type": "code",
      "metadata": {
        "colab": {
          "base_uri": "https://localhost:8080/"
        },
        "id": "ZDosS_7Fe7-Q",
        "outputId": "efd51ff5-6429-4441-fe43-088f7b781608"
      },
      "source": [
        "X_train.columns[rfe1.support_]"
      ],
      "execution_count": null,
      "outputs": [
        {
          "output_type": "execute_result",
          "data": {
            "text/plain": [
              "Index(['housing', 'month', 'poutcome', 'duration', 'pdays'], dtype='object')"
            ]
          },
          "metadata": {
            "tags": []
          },
          "execution_count": 75
        }
      ]
    },
    {
      "cell_type": "code",
      "metadata": {
        "id": "lX5Airnge77J"
      },
      "source": [
        "cols = X_train.columns[rfe1.support_]"
      ],
      "execution_count": null,
      "outputs": []
    },
    {
      "cell_type": "code",
      "metadata": {
        "colab": {
          "base_uri": "https://localhost:8080/"
        },
        "id": "Mog6lUqte74C",
        "outputId": "ee0d8983-d22d-4e63-eedf-3ad09fa56b3f"
      },
      "source": [
        "rfc.fit(X_train[cols],y_train)"
      ],
      "execution_count": null,
      "outputs": [
        {
          "output_type": "execute_result",
          "data": {
            "text/plain": [
              "RandomForestClassifier(bootstrap=True, ccp_alpha=0.0, class_weight=None,\n",
              "                       criterion='gini', max_depth=5, max_features='auto',\n",
              "                       max_leaf_nodes=50, max_samples=None,\n",
              "                       min_impurity_decrease=0.0, min_impurity_split=None,\n",
              "                       min_samples_leaf=1, min_samples_split=2,\n",
              "                       min_weight_fraction_leaf=0.0, n_estimators=100,\n",
              "                       n_jobs=None, oob_score=False, random_state=42, verbose=0,\n",
              "                       warm_start=False)"
            ]
          },
          "metadata": {
            "tags": []
          },
          "execution_count": 77
        }
      ]
    },
    {
      "cell_type": "code",
      "metadata": {
        "id": "Ssuh3z62e7h7"
      },
      "source": [
        "y_pred3 = rfc.predict(X_test[cols])"
      ],
      "execution_count": null,
      "outputs": []
    },
    {
      "cell_type": "code",
      "metadata": {
        "colab": {
          "base_uri": "https://localhost:8080/"
        },
        "id": "B7NDPF6YfsGQ",
        "outputId": "9f717e54-51f8-406a-c3b2-4bd4bd4391c1"
      },
      "source": [
        "\n",
        "f1_score(y_pred3,y_test)"
      ],
      "execution_count": null,
      "outputs": [
        {
          "output_type": "execute_result",
          "data": {
            "text/plain": [
              "0.631911532385466"
            ]
          },
          "metadata": {
            "tags": []
          },
          "execution_count": 82
        }
      ]
    },
    {
      "cell_type": "code",
      "metadata": {
        "colab": {
          "base_uri": "https://localhost:8080/"
        },
        "id": "OT_1p122fsDq",
        "outputId": "3d4ae20f-447f-4dd8-aaad-cfef4b9e1f51"
      },
      "source": [
        "confusion_matrix(y_pred3,y_test)"
      ],
      "execution_count": null,
      "outputs": [
        {
          "output_type": "execute_result",
          "data": {
            "text/plain": [
              "array([[1219,  173],\n",
              "       [  60,  200]])"
            ]
          },
          "metadata": {
            "tags": []
          },
          "execution_count": 83
        }
      ]
    },
    {
      "cell_type": "code",
      "metadata": {
        "id": "wRE6va7_fsBR"
      },
      "source": [
        ""
      ],
      "execution_count": null,
      "outputs": []
    },
    {
      "cell_type": "code",
      "metadata": {
        "id": "pZGDK0IPfr-P"
      },
      "source": [
        ""
      ],
      "execution_count": null,
      "outputs": []
    },
    {
      "cell_type": "code",
      "metadata": {
        "id": "gaGIiW9zfrgy"
      },
      "source": [
        ""
      ],
      "execution_count": null,
      "outputs": []
    }
  ]
}